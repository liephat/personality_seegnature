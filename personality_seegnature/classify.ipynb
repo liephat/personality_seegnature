{
 "cells": [
  {
   "cell_type": "code",
   "execution_count": 71,
   "metadata": {
    "collapsed": true
   },
   "outputs": [],
   "source": [
    "import os\n",
    "import pickle\n",
    "import numpy as np\n",
    "from scipy import interp\n",
    "import matplotlib.pyplot as plt\n",
    "\n",
    "from sklearn.model_selection import StratifiedKFold\n",
    "from sklearn.model_selection import RepeatedStratifiedKFold\n",
    "from sklearn.linear_model import LogisticRegression\n",
    "\n",
    "from sklearn.discriminant_analysis import LinearDiscriminantAnalysis\n",
    "from sklearn.model_selection import train_test_split\n",
    "from sklearn.model_selection import GridSearchCV\n",
    "from sklearn.metrics import classification_report\n",
    "from sklearn.metrics import roc_curve, auc, accuracy_score\n",
    "from sklearn.svm import SVC"
   ]
  },
  {
   "cell_type": "markdown",
   "metadata": {},
   "source": [
    "Define method for grid search with different classification methods"
   ]
  },
  {
   "cell_type": "code",
   "execution_count": 46,
   "metadata": {
    "collapsed": true
   },
   "outputs": [],
   "source": [
    "def perform_logistic_regression(X, y):\n",
    "    # Grid search with logistic regression\n",
    "    lr = LogisticRegression(C=1.0)\n",
    "\n",
    "    # GridSearch for liblinear solver\n",
    "    C_range = [0.1, 1, 10, 100, 1000, 10000]\n",
    "    penalty_options = ['l1', 'l2']\n",
    "    fit_intercept_options = [True, False]\n",
    "    solver_option = ['liblinear']\n",
    "    class_weight_option = ['auto', '']\n",
    "\n",
    "    param_grid = dict(C=C_range, penalty=penalty_options, fit_intercept=fit_intercept_options, solver=solver_option)\n",
    "\n",
    "    # solver_options = ['newton-cg', 'lbfgs', 'sag', 'saga']\n",
    "    # multi_class_options = ['ovr', 'multinomial']\n",
    "    # class_weight_options = [None, 'balanced']\n",
    "\n",
    "    # param_grid = dict(solver = solver_options, multi_class = multi_class_options, class_weight = class_weight_options)\n",
    "\n",
    "    perform_grid_search(lr, X, y, param_grid, \"Logistic Regression\")\n",
    "\n",
    "\n",
    "def perform_lda(X, y):\n",
    "    lda = LinearDiscriminantAnalysis()\n",
    "\n",
    "    solver_options = ['lsqr']\n",
    "    #shrinkage_options = [None, 'auto']\n",
    "    shrinkage = np.arange(0.0, 1.05, 0.05)\n",
    "    \n",
    "    param_grid = dict(solver=solver_options, shrinkage=shrinkage)\n",
    "\n",
    "    perform_grid_search(lda, X, y, param_grid, \"LDA\")\n",
    "    \n",
    "\n",
    "def perform_grid_search(clf, X, y, param_grid, name):\n",
    "    \n",
    "    cv = StratifiedKFold(n_splits=10)\n",
    "    \n",
    "    grid_clf = GridSearchCV(clf, param_grid, cv=cv, scoring='accuracy')\n",
    "    grid_clf.fit(X, y)\n",
    "\n",
    "    print(\"# Tuning parameters for %s\" % name)\n",
    "    print()\n",
    "    # best results\n",
    "    print(\"The best parameters are %s with a score of %0.2f\" \\\n",
    "          % (grid_clf.best_params_, grid_clf.best_score_))\n",
    "    print()\n",
    "    # complete results\n",
    "    means = grid_clf.cv_results_['mean_test_score']\n",
    "    stds = grid_clf.cv_results_['std_test_score']\n",
    "    for mean, std, params in zip(means, stds, grid_clf.cv_results_['params']):\n",
    "        print(\"%0.3f (+/-%0.03f) for %r\"\n",
    "              % (mean, std * 2, params))\n",
    "    print(\"\\n\")\n"
   ]
  },
  {
   "cell_type": "code",
   "execution_count": 3,
   "metadata": {
    "collapsed": true
   },
   "outputs": [],
   "source": [
    "CHANNELS = ['Fp1', 'Fp2', 'F7', 'F3', 'Fz', 'F4', 'F8', 'FC5', 'FCz', 'FC6', 'T7', 'C3', 'Cz', 'C4',\n",
    "            'T8', 'CP5', 'CP1', 'CP2', 'CP6', 'P7', 'P3', 'Pz', 'P4', 'P8', 'O1', 'O2']"
   ]
  },
  {
   "cell_type": "markdown",
   "metadata": {},
   "source": [
    "Set important directories."
   ]
  },
  {
   "cell_type": "code",
   "execution_count": 194,
   "metadata": {
    "collapsed": true
   },
   "outputs": [],
   "source": [
    "working_directory = 'L:/int_err'\n",
    "current_path = os.path.abspath(working_directory)\n",
    "image_directory = os.path.abspath(os.path.join(current_path, 'images'))\n",
    "pickle_directory = os.path.abspath(os.path.join(current_path, 'pickles'))"
   ]
  },
  {
   "cell_type": "markdown",
   "metadata": {},
   "source": [
    "Load separability indices."
   ]
  },
  {
   "cell_type": "code",
   "execution_count": 5,
   "metadata": {
    "collapsed": true
   },
   "outputs": [],
   "source": [
    "consc_std_err_file = os.path.abspath(os.path.join(pickle_directory, 'consc_std_err.pkl'))\n",
    "with open(consc_std_err_file, 'rb') as pickle_file:\n",
    "    consc_std_err = pickle.load(pickle_file)\n",
    "    \n",
    "consc_std_corr_file = os.path.abspath(os.path.join(pickle_directory, 'consc_std_corr.pkl'))\n",
    "with open(consc_std_corr_file, 'rb') as pickle_file:\n",
    "    consc_std_corr = pickle.load(pickle_file)\n",
    "    \n",
    "consc_group_rv_corr_file = os.path.abspath(os.path.join(pickle_directory, 'consc_group_rv_corr.pkl'))\n",
    "with open(consc_group_rv_corr_file, 'rb') as pickle_file:\n",
    "    consc_group_rv_corr = pickle.load(pickle_file)\n",
    "    \n",
    "consc_rv_corr_file = os.path.abspath(os.path.join(pickle_directory, 'consc_rv_corr.pkl'))\n",
    "with open(consc_rv_corr_file, 'rb') as pickle_file:\n",
    "    consc_rv_corr = pickle.load(pickle_file)  \n",
    "\n",
    "consc_rr_corr_file = os.path.abspath(os.path.join(pickle_directory, 'consc_rr_corr.pkl'))\n",
    "with open(consc_rr_corr_file, 'rb') as pickle_file:\n",
    "    consc_rr_corr = pickle.load(pickle_file)  "
   ]
  },
  {
   "cell_type": "code",
   "execution_count": 132,
   "metadata": {
    "collapsed": true
   },
   "outputs": [],
   "source": [
    "consc_std_err.extract_features([[26,50]], CHANNELS, 'Consc_Group')\n",
    "\n",
    "consc_std_corr.extract_features([[124, 188], [192, 236], [246, 286]], CHANNELS, 'Consc_Group')\n",
    "consc_group_rv_corr.extract_features([[160, 180], [204, 240]], CHANNELS, 'Consc_Group')\n",
    "consc_rr_corr.extract_features([[160, 180], [204, 240]], CHANNELS, 'Consc_Group')\n",
    "\n",
    "X_std, y_std = consc_std_corr.get_features_and_labels('Consc_Group')\n",
    "X_rv, y_rv = consc_group_rv_corr.get_features_and_labels('Consc_Group')\n",
    "X_rr, y_rr = consc_rr_corr.get_features_and_labels('Consc_Group')"
   ]
  },
  {
   "cell_type": "code",
   "execution_count": 138,
   "metadata": {},
   "outputs": [
    {
     "name": "stdout",
     "output_type": "stream",
     "text": [
      "# Tuning parameters for LDA\n",
      "\n",
      "The best parameters are {'shrinkage': 0.2, 'solver': 'lsqr'} with a score of 0.68\n",
      "\n",
      "0.561 (+/-0.499) for {'shrinkage': 0.0, 'solver': 'lsqr'}\n",
      "0.610 (+/-0.559) for {'shrinkage': 0.05, 'solver': 'lsqr'}\n",
      "0.610 (+/-0.559) for {'shrinkage': 0.1, 'solver': 'lsqr'}\n",
      "0.659 (+/-0.404) for {'shrinkage': 0.15000000000000002, 'solver': 'lsqr'}\n",
      "0.683 (+/-0.502) for {'shrinkage': 0.2, 'solver': 'lsqr'}\n",
      "0.659 (+/-0.556) for {'shrinkage': 0.25, 'solver': 'lsqr'}\n",
      "0.659 (+/-0.556) for {'shrinkage': 0.30000000000000004, 'solver': 'lsqr'}\n",
      "0.659 (+/-0.556) for {'shrinkage': 0.35000000000000003, 'solver': 'lsqr'}\n",
      "0.659 (+/-0.556) for {'shrinkage': 0.4, 'solver': 'lsqr'}\n",
      "0.634 (+/-0.560) for {'shrinkage': 0.45, 'solver': 'lsqr'}\n",
      "0.610 (+/-0.514) for {'shrinkage': 0.5, 'solver': 'lsqr'}\n",
      "0.610 (+/-0.514) for {'shrinkage': 0.55, 'solver': 'lsqr'}\n",
      "0.610 (+/-0.546) for {'shrinkage': 0.6000000000000001, 'solver': 'lsqr'}\n",
      "0.610 (+/-0.546) for {'shrinkage': 0.65, 'solver': 'lsqr'}\n",
      "0.610 (+/-0.546) for {'shrinkage': 0.7000000000000001, 'solver': 'lsqr'}\n",
      "0.610 (+/-0.546) for {'shrinkage': 0.75, 'solver': 'lsqr'}\n",
      "0.561 (+/-0.554) for {'shrinkage': 0.8, 'solver': 'lsqr'}\n",
      "0.561 (+/-0.554) for {'shrinkage': 0.8500000000000001, 'solver': 'lsqr'}\n",
      "0.585 (+/-0.518) for {'shrinkage': 0.9, 'solver': 'lsqr'}\n",
      "0.634 (+/-0.524) for {'shrinkage': 0.9500000000000001, 'solver': 'lsqr'}\n",
      "\n",
      "\n"
     ]
    }
   ],
   "source": [
    "perform_lda(X_std, y_std)"
   ]
  },
  {
   "cell_type": "code",
   "execution_count": 137,
   "metadata": {
    "scrolled": true
   },
   "outputs": [
    {
     "name": "stdout",
     "output_type": "stream",
     "text": [
      "# Tuning parameters for Logistic Regression\n",
      "\n",
      "The best parameters are {'C': 100, 'fit_intercept': True, 'penalty': 'l1', 'solver': 'liblinear'} with a score of 0.73\n",
      "\n",
      "0.659 (+/-0.460) for {'C': 0.1, 'fit_intercept': True, 'penalty': 'l1', 'solver': 'liblinear'}\n",
      "0.683 (+/-0.450) for {'C': 0.1, 'fit_intercept': True, 'penalty': 'l2', 'solver': 'liblinear'}\n",
      "0.659 (+/-0.460) for {'C': 0.1, 'fit_intercept': False, 'penalty': 'l1', 'solver': 'liblinear'}\n",
      "0.683 (+/-0.450) for {'C': 0.1, 'fit_intercept': False, 'penalty': 'l2', 'solver': 'liblinear'}\n",
      "0.659 (+/-0.460) for {'C': 1, 'fit_intercept': True, 'penalty': 'l1', 'solver': 'liblinear'}\n",
      "0.683 (+/-0.552) for {'C': 1, 'fit_intercept': True, 'penalty': 'l2', 'solver': 'liblinear'}\n",
      "0.659 (+/-0.460) for {'C': 1, 'fit_intercept': False, 'penalty': 'l1', 'solver': 'liblinear'}\n",
      "0.683 (+/-0.552) for {'C': 1, 'fit_intercept': False, 'penalty': 'l2', 'solver': 'liblinear'}\n",
      "0.707 (+/-0.440) for {'C': 10, 'fit_intercept': True, 'penalty': 'l1', 'solver': 'liblinear'}\n",
      "0.683 (+/-0.552) for {'C': 10, 'fit_intercept': True, 'penalty': 'l2', 'solver': 'liblinear'}\n",
      "0.683 (+/-0.506) for {'C': 10, 'fit_intercept': False, 'penalty': 'l1', 'solver': 'liblinear'}\n",
      "0.683 (+/-0.552) for {'C': 10, 'fit_intercept': False, 'penalty': 'l2', 'solver': 'liblinear'}\n",
      "0.732 (+/-0.474) for {'C': 100, 'fit_intercept': True, 'penalty': 'l1', 'solver': 'liblinear'}\n",
      "0.683 (+/-0.552) for {'C': 100, 'fit_intercept': True, 'penalty': 'l2', 'solver': 'liblinear'}\n",
      "0.634 (+/-0.645) for {'C': 100, 'fit_intercept': False, 'penalty': 'l1', 'solver': 'liblinear'}\n",
      "0.707 (+/-0.493) for {'C': 100, 'fit_intercept': False, 'penalty': 'l2', 'solver': 'liblinear'}\n",
      "0.659 (+/-0.598) for {'C': 1000, 'fit_intercept': True, 'penalty': 'l1', 'solver': 'liblinear'}\n",
      "0.683 (+/-0.552) for {'C': 1000, 'fit_intercept': True, 'penalty': 'l2', 'solver': 'liblinear'}\n",
      "0.634 (+/-0.678) for {'C': 1000, 'fit_intercept': False, 'penalty': 'l1', 'solver': 'liblinear'}\n",
      "0.707 (+/-0.493) for {'C': 1000, 'fit_intercept': False, 'penalty': 'l2', 'solver': 'liblinear'}\n",
      "0.659 (+/-0.598) for {'C': 10000, 'fit_intercept': True, 'penalty': 'l1', 'solver': 'liblinear'}\n",
      "0.634 (+/-0.519) for {'C': 10000, 'fit_intercept': True, 'penalty': 'l2', 'solver': 'liblinear'}\n",
      "0.683 (+/-0.502) for {'C': 10000, 'fit_intercept': False, 'penalty': 'l1', 'solver': 'liblinear'}\n",
      "0.634 (+/-0.519) for {'C': 10000, 'fit_intercept': False, 'penalty': 'l2', 'solver': 'liblinear'}\n",
      "\n",
      "\n"
     ]
    }
   ],
   "source": [
    "perform_logistic_regression(X_std, y_std)"
   ]
  },
  {
   "cell_type": "code",
   "execution_count": 11,
   "metadata": {},
   "outputs": [
    {
     "name": "stdout",
     "output_type": "stream",
     "text": [
      "# Tuning hyper-parameters for precision\n",
      "\n",
      "Best parameters set found on development set:\n",
      "\n",
      "{'C': 10, 'gamma': 0.001, 'kernel': 'rbf'}\n",
      "\n",
      "Grid scores on development set:\n",
      "\n",
      "0.455 (+/-0.257) for {'C': 1, 'gamma': 0.001, 'kernel': 'rbf'}\n",
      "0.455 (+/-0.257) for {'C': 1, 'gamma': 0.0001, 'kernel': 'rbf'}\n",
      "0.636 (+/-0.332) for {'C': 10, 'gamma': 0.001, 'kernel': 'rbf'}\n",
      "0.455 (+/-0.257) for {'C': 10, 'gamma': 0.0001, 'kernel': 'rbf'}\n",
      "0.636 (+/-0.332) for {'C': 100, 'gamma': 0.001, 'kernel': 'rbf'}\n",
      "0.636 (+/-0.332) for {'C': 100, 'gamma': 0.0001, 'kernel': 'rbf'}\n",
      "0.636 (+/-0.332) for {'C': 1000, 'gamma': 0.001, 'kernel': 'rbf'}\n",
      "0.636 (+/-0.332) for {'C': 1000, 'gamma': 0.0001, 'kernel': 'rbf'}\n",
      "0.636 (+/-0.332) for {'C': 1, 'kernel': 'linear'}\n",
      "0.636 (+/-0.332) for {'C': 10, 'kernel': 'linear'}\n",
      "0.636 (+/-0.332) for {'C': 100, 'kernel': 'linear'}\n",
      "0.636 (+/-0.332) for {'C': 1000, 'kernel': 'linear'}\n",
      "\n",
      "Detailed classification report:\n",
      "\n",
      "The model is trained on the full development set.\n",
      "The scores are computed on the full evaluation set.\n",
      "\n",
      "             precision    recall  f1-score   support\n",
      "\n",
      "        0.0       0.79      0.58      0.67        19\n",
      "        1.0       0.60      0.80      0.69        15\n",
      "\n",
      "avg / total       0.70      0.68      0.68        34\n",
      "\n",
      "\n",
      "# Tuning hyper-parameters for recall\n",
      "\n"
     ]
    },
    {
     "name": "stderr",
     "output_type": "stream",
     "text": [
      "C:\\Users\\Mike\\AppData\\Local\\conda\\conda\\envs\\seegnature\\lib\\site-packages\\sklearn\\model_selection\\_split.py:605: Warning: The least populated class in y has only 3 members, which is too few. The minimum number of members in any class cannot be less than n_splits=5.\n",
      "  % (min_groups, self.n_splits)), Warning)\n",
      "C:\\Users\\Mike\\AppData\\Local\\conda\\conda\\envs\\seegnature\\lib\\site-packages\\sklearn\\metrics\\classification.py:1135: UndefinedMetricWarning: Precision is ill-defined and being set to 0.0 in labels with no predicted samples.\n",
      "  'precision', 'predicted', average, warn_for)\n",
      "C:\\Users\\Mike\\AppData\\Local\\conda\\conda\\envs\\seegnature\\lib\\site-packages\\sklearn\\metrics\\classification.py:1135: UndefinedMetricWarning: Precision is ill-defined and being set to 0.0 in labels with no predicted samples.\n",
      "  'precision', 'predicted', average, warn_for)\n",
      "C:\\Users\\Mike\\AppData\\Local\\conda\\conda\\envs\\seegnature\\lib\\site-packages\\sklearn\\metrics\\classification.py:1135: UndefinedMetricWarning: Precision is ill-defined and being set to 0.0 in labels with no predicted samples.\n",
      "  'precision', 'predicted', average, warn_for)\n",
      "C:\\Users\\Mike\\AppData\\Local\\conda\\conda\\envs\\seegnature\\lib\\site-packages\\sklearn\\metrics\\classification.py:1135: UndefinedMetricWarning: Precision is ill-defined and being set to 0.0 in labels with no predicted samples.\n",
      "  'precision', 'predicted', average, warn_for)\n",
      "C:\\Users\\Mike\\AppData\\Local\\conda\\conda\\envs\\seegnature\\lib\\site-packages\\sklearn\\metrics\\classification.py:1135: UndefinedMetricWarning: Precision is ill-defined and being set to 0.0 in labels with no predicted samples.\n",
      "  'precision', 'predicted', average, warn_for)\n",
      "C:\\Users\\Mike\\AppData\\Local\\conda\\conda\\envs\\seegnature\\lib\\site-packages\\sklearn\\metrics\\classification.py:1135: UndefinedMetricWarning: Precision is ill-defined and being set to 0.0 in labels with no predicted samples.\n",
      "  'precision', 'predicted', average, warn_for)\n",
      "C:\\Users\\Mike\\AppData\\Local\\conda\\conda\\envs\\seegnature\\lib\\site-packages\\sklearn\\metrics\\classification.py:1135: UndefinedMetricWarning: Precision is ill-defined and being set to 0.0 in labels with no predicted samples.\n",
      "  'precision', 'predicted', average, warn_for)\n",
      "C:\\Users\\Mike\\AppData\\Local\\conda\\conda\\envs\\seegnature\\lib\\site-packages\\sklearn\\metrics\\classification.py:1135: UndefinedMetricWarning: Precision is ill-defined and being set to 0.0 in labels with no predicted samples.\n",
      "  'precision', 'predicted', average, warn_for)\n",
      "C:\\Users\\Mike\\AppData\\Local\\conda\\conda\\envs\\seegnature\\lib\\site-packages\\sklearn\\metrics\\classification.py:1135: UndefinedMetricWarning: Precision is ill-defined and being set to 0.0 in labels with no predicted samples.\n",
      "  'precision', 'predicted', average, warn_for)\n",
      "C:\\Users\\Mike\\AppData\\Local\\conda\\conda\\envs\\seegnature\\lib\\site-packages\\sklearn\\metrics\\classification.py:1135: UndefinedMetricWarning: Precision is ill-defined and being set to 0.0 in labels with no predicted samples.\n",
      "  'precision', 'predicted', average, warn_for)\n",
      "C:\\Users\\Mike\\AppData\\Local\\conda\\conda\\envs\\seegnature\\lib\\site-packages\\sklearn\\metrics\\classification.py:1135: UndefinedMetricWarning: Precision is ill-defined and being set to 0.0 in labels with no predicted samples.\n",
      "  'precision', 'predicted', average, warn_for)\n",
      "C:\\Users\\Mike\\AppData\\Local\\conda\\conda\\envs\\seegnature\\lib\\site-packages\\sklearn\\metrics\\classification.py:1135: UndefinedMetricWarning: Precision is ill-defined and being set to 0.0 in labels with no predicted samples.\n",
      "  'precision', 'predicted', average, warn_for)\n",
      "C:\\Users\\Mike\\AppData\\Local\\conda\\conda\\envs\\seegnature\\lib\\site-packages\\sklearn\\metrics\\classification.py:1135: UndefinedMetricWarning: Precision is ill-defined and being set to 0.0 in labels with no predicted samples.\n",
      "  'precision', 'predicted', average, warn_for)\n",
      "C:\\Users\\Mike\\AppData\\Local\\conda\\conda\\envs\\seegnature\\lib\\site-packages\\sklearn\\metrics\\classification.py:1135: UndefinedMetricWarning: Precision is ill-defined and being set to 0.0 in labels with no predicted samples.\n",
      "  'precision', 'predicted', average, warn_for)\n",
      "C:\\Users\\Mike\\AppData\\Local\\conda\\conda\\envs\\seegnature\\lib\\site-packages\\sklearn\\metrics\\classification.py:1135: UndefinedMetricWarning: Precision is ill-defined and being set to 0.0 in labels with no predicted samples.\n",
      "  'precision', 'predicted', average, warn_for)\n",
      "C:\\Users\\Mike\\AppData\\Local\\conda\\conda\\envs\\seegnature\\lib\\site-packages\\sklearn\\metrics\\classification.py:1135: UndefinedMetricWarning: Precision is ill-defined and being set to 0.0 in labels with no predicted samples.\n",
      "  'precision', 'predicted', average, warn_for)\n",
      "C:\\Users\\Mike\\AppData\\Local\\conda\\conda\\envs\\seegnature\\lib\\site-packages\\sklearn\\metrics\\classification.py:1135: UndefinedMetricWarning: Precision is ill-defined and being set to 0.0 in labels with no predicted samples.\n",
      "  'precision', 'predicted', average, warn_for)\n",
      "C:\\Users\\Mike\\AppData\\Local\\conda\\conda\\envs\\seegnature\\lib\\site-packages\\sklearn\\metrics\\classification.py:1135: UndefinedMetricWarning: Precision is ill-defined and being set to 0.0 in labels with no predicted samples.\n",
      "  'precision', 'predicted', average, warn_for)\n",
      "C:\\Users\\Mike\\AppData\\Local\\conda\\conda\\envs\\seegnature\\lib\\site-packages\\sklearn\\metrics\\classification.py:1135: UndefinedMetricWarning: Precision is ill-defined and being set to 0.0 in labels with no predicted samples.\n",
      "  'precision', 'predicted', average, warn_for)\n",
      "C:\\Users\\Mike\\AppData\\Local\\conda\\conda\\envs\\seegnature\\lib\\site-packages\\sklearn\\metrics\\classification.py:1135: UndefinedMetricWarning: Precision is ill-defined and being set to 0.0 in labels with no predicted samples.\n",
      "  'precision', 'predicted', average, warn_for)\n",
      "C:\\Users\\Mike\\AppData\\Local\\conda\\conda\\envs\\seegnature\\lib\\site-packages\\sklearn\\metrics\\classification.py:1135: UndefinedMetricWarning: Precision is ill-defined and being set to 0.0 in labels with no predicted samples.\n",
      "  'precision', 'predicted', average, warn_for)\n",
      "C:\\Users\\Mike\\AppData\\Local\\conda\\conda\\envs\\seegnature\\lib\\site-packages\\sklearn\\metrics\\classification.py:1135: UndefinedMetricWarning: Precision is ill-defined and being set to 0.0 in labels with no predicted samples.\n",
      "  'precision', 'predicted', average, warn_for)\n",
      "C:\\Users\\Mike\\AppData\\Local\\conda\\conda\\envs\\seegnature\\lib\\site-packages\\sklearn\\metrics\\classification.py:1135: UndefinedMetricWarning: Precision is ill-defined and being set to 0.0 in labels with no predicted samples.\n",
      "  'precision', 'predicted', average, warn_for)\n",
      "C:\\Users\\Mike\\AppData\\Local\\conda\\conda\\envs\\seegnature\\lib\\site-packages\\sklearn\\metrics\\classification.py:1135: UndefinedMetricWarning: Precision is ill-defined and being set to 0.0 in labels with no predicted samples.\n",
      "  'precision', 'predicted', average, warn_for)\n",
      "C:\\Users\\Mike\\AppData\\Local\\conda\\conda\\envs\\seegnature\\lib\\site-packages\\sklearn\\metrics\\classification.py:1135: UndefinedMetricWarning: Precision is ill-defined and being set to 0.0 in labels with no predicted samples.\n",
      "  'precision', 'predicted', average, warn_for)\n",
      "C:\\Users\\Mike\\AppData\\Local\\conda\\conda\\envs\\seegnature\\lib\\site-packages\\sklearn\\metrics\\classification.py:1135: UndefinedMetricWarning: Precision is ill-defined and being set to 0.0 in labels with no predicted samples.\n",
      "  'precision', 'predicted', average, warn_for)\n",
      "C:\\Users\\Mike\\AppData\\Local\\conda\\conda\\envs\\seegnature\\lib\\site-packages\\sklearn\\metrics\\classification.py:1135: UndefinedMetricWarning: Precision is ill-defined and being set to 0.0 in labels with no predicted samples.\n",
      "  'precision', 'predicted', average, warn_for)\n",
      "C:\\Users\\Mike\\AppData\\Local\\conda\\conda\\envs\\seegnature\\lib\\site-packages\\sklearn\\metrics\\classification.py:1135: UndefinedMetricWarning: Precision is ill-defined and being set to 0.0 in labels with no predicted samples.\n",
      "  'precision', 'predicted', average, warn_for)\n",
      "C:\\Users\\Mike\\AppData\\Local\\conda\\conda\\envs\\seegnature\\lib\\site-packages\\sklearn\\metrics\\classification.py:1135: UndefinedMetricWarning: Precision is ill-defined and being set to 0.0 in labels with no predicted samples.\n",
      "  'precision', 'predicted', average, warn_for)\n",
      "C:\\Users\\Mike\\AppData\\Local\\conda\\conda\\envs\\seegnature\\lib\\site-packages\\sklearn\\model_selection\\_split.py:605: Warning: The least populated class in y has only 3 members, which is too few. The minimum number of members in any class cannot be less than n_splits=5.\n",
      "  % (min_groups, self.n_splits)), Warning)\n"
     ]
    },
    {
     "name": "stdout",
     "output_type": "stream",
     "text": [
      "Best parameters set found on development set:\n",
      "\n",
      "{'C': 10, 'gamma': 0.001, 'kernel': 'rbf'}\n",
      "\n",
      "Grid scores on development set:\n",
      "\n",
      "0.591 (+/-0.193) for {'C': 1, 'gamma': 0.001, 'kernel': 'rbf'}\n",
      "0.591 (+/-0.193) for {'C': 1, 'gamma': 0.0001, 'kernel': 'rbf'}\n",
      "0.727 (+/-0.249) for {'C': 10, 'gamma': 0.001, 'kernel': 'rbf'}\n",
      "0.591 (+/-0.193) for {'C': 10, 'gamma': 0.0001, 'kernel': 'rbf'}\n",
      "0.727 (+/-0.249) for {'C': 100, 'gamma': 0.001, 'kernel': 'rbf'}\n",
      "0.727 (+/-0.249) for {'C': 100, 'gamma': 0.0001, 'kernel': 'rbf'}\n",
      "0.727 (+/-0.249) for {'C': 1000, 'gamma': 0.001, 'kernel': 'rbf'}\n",
      "0.727 (+/-0.249) for {'C': 1000, 'gamma': 0.0001, 'kernel': 'rbf'}\n",
      "0.727 (+/-0.249) for {'C': 1, 'kernel': 'linear'}\n",
      "0.727 (+/-0.249) for {'C': 10, 'kernel': 'linear'}\n",
      "0.727 (+/-0.249) for {'C': 100, 'kernel': 'linear'}\n",
      "0.727 (+/-0.249) for {'C': 1000, 'kernel': 'linear'}\n",
      "\n",
      "Detailed classification report:\n",
      "\n",
      "The model is trained on the full development set.\n",
      "The scores are computed on the full evaluation set.\n",
      "\n",
      "             precision    recall  f1-score   support\n",
      "\n",
      "        0.0       0.79      0.58      0.67        19\n",
      "        1.0       0.60      0.80      0.69        15\n",
      "\n",
      "avg / total       0.70      0.68      0.68        34\n",
      "\n",
      "\n"
     ]
    }
   ],
   "source": [
    "# Split the dataset in two equal parts\n",
    "X_train, X_test, y_train, y_test = train_test_split(\n",
    "    X_rv, y_rv, test_size=0.75, random_state=0)\n",
    "\n",
    "# Set the parameters by cross-validation\n",
    "tuned_parameters = [{'kernel': ['rbf'], 'gamma': [1e-3, 1e-4],\n",
    "                     'C': [1, 10, 100, 1000]},\n",
    "                    {'kernel': ['linear'], 'C': [1, 10, 100, 1000]}]\n",
    "\n",
    "scores = ['precision', 'recall']\n",
    "\n",
    "for score in scores:\n",
    "    print(\"# Tuning hyper-parameters for %s\" % score)\n",
    "    print()\n",
    "\n",
    "    clf = GridSearchCV(SVC(), tuned_parameters, cv=5,\n",
    "                       scoring='%s_macro' % score)\n",
    "    clf.fit(X_train, y_train)\n",
    "\n",
    "    print(\"Best parameters set found on development set:\")\n",
    "    print()\n",
    "    print(clf.best_params_)\n",
    "    print()\n",
    "    print(\"Grid scores on development set:\")\n",
    "    print()\n",
    "    means = clf.cv_results_['mean_test_score']\n",
    "    stds = clf.cv_results_['std_test_score']\n",
    "    for mean, std, params in zip(means, stds, clf.cv_results_['params']):\n",
    "        print(\"%0.3f (+/-%0.03f) for %r\"\n",
    "              % (mean, std, params))\n",
    "    print()\n",
    "\n",
    "    print(\"Detailed classification report:\")\n",
    "    print()\n",
    "    print(\"The model is trained on the full development set.\")\n",
    "    print(\"The scores are computed on the full evaluation set.\")\n",
    "    print()\n",
    "    y_true, y_pred = y_test, clf.predict(X_test)\n",
    "    print(classification_report(y_true, y_pred))\n",
    "    print()"
   ]
  },
  {
   "cell_type": "code",
   "execution_count": 116,
   "metadata": {},
   "outputs": [],
   "source": [
    "def run_evaluation(clf, X, y):\n",
    "    \n",
    "    results = []\n",
    "    \n",
    "    grand_mean_tpr = 0.0\n",
    "    grand_mean_fpr = np.linspace(0, 1, 100)\n",
    "    \n",
    "    for iteration in range(0, 10):\n",
    "        \n",
    "        cv = StratifiedKFold(n_splits=5, shuffle=True, random_state=iteration)\n",
    "\n",
    "        # Variable for accuracy score\n",
    "        mean_accuracy = 0\n",
    "        \n",
    "        for train, test in cv.split(X, y):\n",
    "            \n",
    "            probas_ = clf.fit(X[train], y[train]).predict_proba(X[test])\n",
    "\n",
    "            # Compute accuracy score\n",
    "            y_pred = clf.fit(X[train], y[train]).predict(X[test])\n",
    "            \n",
    "            mean_accuracy += accuracy_score(y[test], y_pred)\n",
    "            \n",
    "\n",
    "        # Mean accuracy\n",
    "        mean_accuracy /= 5\n",
    "        \n",
    "        grand_mean_accuracy += mean_accuracy\n",
    "        \n",
    "        results.append(mean_accuracy)\n",
    "            \n",
    "    return results"
   ]
  },
  {
   "cell_type": "code",
   "execution_count": 156,
   "metadata": {},
   "outputs": [],
   "source": [
    "### Evaluation of classification with STD\n",
    "\n",
    "lda = LinearDiscriminantAnalysis(solver='lsqr', shrinkage=0.2)\n",
    "lr = LogisticRegression(C=100, fit_intercept=True, penalty='l1', solver='liblinear')\n",
    "\n",
    "results_lda = run_evaluation(lda, X_std, y_std)\n",
    "results_lr = run_evaluation(lr, X_std, y_std)\n",
    "\n",
    "results_std = []\n",
    "results_std.append(results_lda)\n",
    "results_std.append(results_lr)\n",
    "\n",
    "### Evaluation of classification with RV\n",
    "\n",
    "lda = LinearDiscriminantAnalysis(solver='lsqr', shrinkage=0.6)\n",
    "lr = LogisticRegression(C=10, fit_intercept=False, penalty='l2', solver='liblinear')\n",
    "\n",
    "results_lda = run_evaluation(lda, X_rv, y_rv)\n",
    "results_lr = run_evaluation(lr, X_rv, y_rv)\n",
    "\n",
    "results_rv = []\n",
    "results_rv.append(results_lda)\n",
    "results_rv.append(results_lr)\n",
    "\n",
    "### Evaluation of classification with RR\n",
    "\n",
    "lda = LinearDiscriminantAnalysis(solver='lsqr', shrinkage=0.95)\n",
    "lr = LogisticRegression(C=100, fit_intercept=True, penalty='l2', solver='liblinear')\n",
    "\n",
    "results_lda = run_evaluation(lda, X_rr, y_rr)\n",
    "results_lr = run_evaluation(lr, X_rr, y_rr)\n",
    "\n",
    "results_rr = []\n",
    "results_rr.append(results_lda)\n",
    "results_rr.append(results_lr)"
   ]
  },
  {
   "cell_type": "markdown",
   "metadata": {},
   "source": [
    "Collect all evaluation results:"
   ]
  },
  {
   "cell_type": "code",
   "execution_count": 195,
   "metadata": {},
   "outputs": [
    {
     "name": "stdout",
     "output_type": "stream",
     "text": [
      "[0.64111111 0.64527778]\n",
      "[0.69127778 0.779     ]\n",
      "[0.6715     0.64527778]\n",
      "[0.03241323 0.03340386]\n",
      "[0.03370721 0.04038534]\n",
      "[0.0237243 0.0427592]\n",
      "(3, 2)\n"
     ]
    },
    {
     "data": {
      "image/png": "[encoded data removed]",
      "text/plain": [
       "<Figure size 432x288 with 1 Axes>"
      ]
     },
     "metadata": {},
     "output_type": "display_data"
    }
   ],
   "source": [
    "results_std = np.array(results_std)\n",
    "results_rv = np.array(results_rv)\n",
    "results_rr = np.array(results_rr)\n",
    "\n",
    "results = []\n",
    "print(np.mean(results_std, axis=1))\n",
    "print(np.mean(results_rv, axis=1))\n",
    "print(np.mean(results_rr, axis=1))\n",
    "\n",
    "print(np.std(results_std, axis=1))\n",
    "print(np.std(results_rv, axis=1))\n",
    "print(np.std(results_rr, axis=1))\n",
    "\n",
    "results.append(results_std)\n",
    "results.append(results_rv)\n",
    "results.append(results_rr)\n",
    "\n",
    "results = np.array(results)\n",
    "\n",
    "means = np.mean(results, axis=2)\n",
    "stds = np.std(results, axis=2)\n",
    "\n",
    "print(means.shape)\n",
    "\n",
    "ind = np.arange(len(means))\n",
    "width = 0.35\n",
    "\n",
    "fig, ax = plt.subplots()\n",
    "rects1 = ax.bar(ind - width/2, means[:,0], width, yerr=stds[:,0], color='SkyBlue', label='LDA', capsize=5)\n",
    "rects2 = ax.bar(ind + width/2, means[:,1], width, yerr=stds[:,1], color='IndianRed', label='LR', capsize=5)\n",
    "\n",
    "ax.set_ylabel('Accuracy')\n",
    "ax.set_title('Accuracy by instruction condition and classifier')\n",
    "ax.set_xticks(ind)\n",
    "ax.set_xticklabels(('STD', 'RV', 'RR'))\n",
    "ax.legend()\n",
    "\n",
    "plot_path = os.path.abspath(os.path.join(image_directory, 'interr1_comparison_lr_lda.png'))\n",
    "\n",
    "plt.savefig(plot_path, dpi=300, bbox_inches='tight')\n"
   ]
  }
 ],
 "metadata": {
  "kernelspec": {
   "display_name": "seegnature",
   "language": "python",
   "name": "seegnature"
  },
  "language_info": {
   "codemirror_mode": {
    "name": "ipython",
    "version": 3
   },
   "file_extension": ".py",
   "mimetype": "text/x-python",
   "name": "python",
   "nbconvert_exporter": "python",
   "pygments_lexer": "ipython3",
   "version": "3.6.5"
  },
  "varInspector": {
   "cols": {
    "lenName": 16,
    "lenType": 16,
    "lenVar": 40
   },
   "kernels_config": {
    "python": {
     "delete_cmd_postfix": "",
     "delete_cmd_prefix": "del ",
     "library": "var_list.py",
     "varRefreshCmd": "print(var_dic_list())"
    },
    "r": {
     "delete_cmd_postfix": ") ",
     "delete_cmd_prefix": "rm(",
     "library": "var_list.r",
     "varRefreshCmd": "cat(var_dic_list()) "
    }
   },
   "types_to_exclude": [
    "module",
    "function",
    "builtin_function_or_method",
    "instance",
    "_Feature"
   ],
   "window_display": false
  }
 },
 "nbformat": 4,
 "nbformat_minor": 2
}
