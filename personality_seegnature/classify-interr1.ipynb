{
 "cells": [
  {
   "cell_type": "code",
   "execution_count": 50,
   "metadata": {
    "collapsed": true
   },
   "outputs": [],
   "source": [
    "import os\n",
    "import pickle\n",
    "import numpy as np\n",
    "from scipy import interp\n",
    "import matplotlib.pyplot as plt\n",
    "\n",
    "from sklearn.model_selection import StratifiedKFold\n",
    "from sklearn.model_selection import RepeatedStratifiedKFold\n",
    "from sklearn.linear_model import LogisticRegression\n",
    "\n",
    "from sklearn.discriminant_analysis import LinearDiscriminantAnalysis\n",
    "from sklearn.model_selection import train_test_split\n",
    "from sklearn.model_selection import GridSearchCV\n",
    "from sklearn.metrics import classification_report\n",
    "from sklearn.metrics import roc_curve, auc, accuracy_score, precision_score, recall_score, confusion_matrix\n",
    "from sklearn.svm import SVC"
   ]
  },
  {
   "cell_type": "markdown",
   "metadata": {},
   "source": [
    "Define method for grid search with different classification methods"
   ]
  },
  {
   "cell_type": "code",
   "execution_count": 3,
   "metadata": {
    "collapsed": true
   },
   "outputs": [],
   "source": [
    "def perform_logistic_regression(X, y):\n",
    "    # Grid search with logistic regression\n",
    "    lr = LogisticRegression(C=1.0)\n",
    "\n",
    "    # GridSearch for liblinear solver\n",
    "    C_range = [0.1, 1, 10, 100, 1000, 10000]\n",
    "    penalty_options = ['l1', 'l2']\n",
    "    fit_intercept_options = [True, False]\n",
    "    solver_option = ['liblinear']\n",
    "    class_weight_option = ['auto', '']\n",
    "\n",
    "    param_grid = dict(C=C_range, penalty=penalty_options, fit_intercept=fit_intercept_options, solver=solver_option)\n",
    "\n",
    "    # solver_options = ['newton-cg', 'lbfgs', 'sag', 'saga']\n",
    "    # multi_class_options = ['ovr', 'multinomial']\n",
    "    # class_weight_options = [None, 'balanced']\n",
    "\n",
    "    # param_grid = dict(solver = solver_options, multi_class = multi_class_options, class_weight = class_weight_options)\n",
    "\n",
    "    perform_grid_search(lr, X, y, param_grid, \"Logistic Regression\")\n",
    "    \n",
    "    tune_parameters_for_scores(lr, X, y, param_grid, ['precision', 'recall'])\n",
    "\n",
    "\n",
    "def perform_lda(X, y):\n",
    "    lda = LinearDiscriminantAnalysis()\n",
    "\n",
    "    solver_options = ['lsqr']\n",
    "    #shrinkage_options = [None, 'auto']\n",
    "    shrinkage = np.arange(0.0, 1.05, 0.05)\n",
    "    \n",
    "    param_grid = dict(solver=solver_options, shrinkage=shrinkage)\n",
    "\n",
    "    perform_grid_search(lda, X, y, param_grid, \"LDA\")\n",
    "    \n",
    "    for iteration in range(0, 10):\n",
    "        tune_parameters_for_scores(lda, X, y, param_grid, ['accuracy'], iteration)\n",
    "    \n",
    "\n",
    "def perform_svc(X, y):\n",
    "    \n",
    "    tuned_parameters = [{'kernel': ['rbf'], 'gamma': [1e-3, 1e-4],\n",
    "                         'C': [1, 10, 100, 1000]},\n",
    "                        {'kernel': ['linear'], 'C': [1, 10, 100, 1000]}]\n",
    "\n",
    "    \n",
    "    for iteration in range(0, 10):\n",
    "        tune_parameters_for_scores(SVC(), X, y, tuned_parameters, ['accuracy'], iteration)\n",
    "\n",
    "    \n",
    "def perform_grid_search(clf, X, y, param_grid, name):\n",
    "    \n",
    "    cv = StratifiedKFold(n_splits=10)\n",
    "    \n",
    "    grid_clf = GridSearchCV(clf, param_grid, cv=cv, scoring='accuracy')\n",
    "    grid_clf.fit(X, y)\n",
    "\n",
    "    print(\"# Tuning parameters for %s\" % name)\n",
    "    print()\n",
    "    # best results\n",
    "    print(\"The best parameters are %s with a score of %0.2f\" \\\n",
    "          % (grid_clf.best_params_, grid_clf.best_score_))\n",
    "    print()\n",
    "    # complete results\n",
    "    means = grid_clf.cv_results_['mean_test_score']\n",
    "    stds = grid_clf.cv_results_['std_test_score']\n",
    "    for mean, std, params in zip(means, stds, grid_clf.cv_results_['params']):\n",
    "        print(\"%0.3f (+/-%0.03f) for %r\"\n",
    "              % (mean, std * 2, params))\n",
    "    print(\"\\n\")\n"
   ]
  },
  {
   "cell_type": "code",
   "execution_count": 4,
   "metadata": {
    "collapsed": true
   },
   "outputs": [],
   "source": [
    "def tune_parameters_for_scores(method, X, y, param_grid, scores, random_state, print_grid_scores=False, test_size=False) :\n",
    "    # Split the dataset in two equal parts\n",
    "    \n",
    "    X_train, X_test, y_train, y_test = train_test_split(\n",
    "        X, y, test_size=0.1, random_state=random_state)\n",
    "\n",
    "    # Set the parameters by cross-validation\n",
    "    \n",
    "    cv = StratifiedKFold(n_splits=10)\n",
    "    \n",
    "    for score in scores:\n",
    "        print(\"# Tuning hyper-parameters for %s\" % score)\n",
    "        print()\n",
    "\n",
    "        clf = GridSearchCV(method, param_grid, cv=cv,\n",
    "                           scoring='%s' % score)\n",
    "        clf.fit(X_train, y_train)\n",
    "\n",
    "        print(\"Best parameters set found on development set:\")\n",
    "        print()\n",
    "        print(clf.best_params_)\n",
    "        print()\n",
    "        \n",
    "        if print_grid_scores:\n",
    "            print(\"Grid scores on development set:\")\n",
    "            print()\n",
    "            means = clf.cv_results_['mean_test_score']\n",
    "            stds = clf.cv_results_['std_test_score']\n",
    "            for mean, std, params in zip(means, stds, clf.cv_results_['params']):\n",
    "                print(\"%0.3f (+/-%0.03f) for %r\"\n",
    "                      % (mean, std, params))\n",
    "            print()\n",
    "\n",
    "        print(\"Detailed classification report:\")\n",
    "        print()\n",
    "        print(\"The model is trained on the full development set.\")\n",
    "        print(\"The scores are computed on the full evaluation set.\")\n",
    "        print()\n",
    "        y_true, y_pred = y_test, clf.predict(X_test)\n",
    "        print(classification_report(y_true, y_pred))\n",
    "        print()"
   ]
  },
  {
   "cell_type": "code",
   "execution_count": 5,
   "metadata": {
    "collapsed": true
   },
   "outputs": [],
   "source": [
    "CHANNELS = ['Fp1', 'Fp2', 'F7', 'F3', 'Fz', 'F4', 'F8', 'FC5', 'FCz', 'FC6', 'T7', 'C3', 'Cz', 'C4',\n",
    "            'T8', 'CP5', 'CP1', 'CP2', 'CP6', 'P7', 'P3', 'Pz', 'P4', 'P8', 'O1', 'O2']"
   ]
  },
  {
   "cell_type": "markdown",
   "metadata": {},
   "source": [
    "Set important directories."
   ]
  },
  {
   "cell_type": "code",
   "execution_count": 6,
   "metadata": {
    "collapsed": true
   },
   "outputs": [],
   "source": [
    "working_directory = 'L:/int_err'\n",
    "current_path = os.path.abspath(working_directory)\n",
    "image_directory = os.path.abspath(os.path.join(current_path, 'images'))\n",
    "pickle_directory = os.path.abspath(os.path.join(current_path, 'pickles'))"
   ]
  },
  {
   "cell_type": "markdown",
   "metadata": {},
   "source": [
    "Load separability indices."
   ]
  },
  {
   "cell_type": "code",
   "execution_count": 7,
   "metadata": {
    "collapsed": true
   },
   "outputs": [],
   "source": [
    "consc_std_err_file = os.path.abspath(os.path.join(pickle_directory, 'consc_std_err.pkl'))\n",
    "with open(consc_std_err_file, 'rb') as pickle_file:\n",
    "    consc_std_err = pickle.load(pickle_file)\n",
    "    \n",
    "consc_std_corr_file = os.path.abspath(os.path.join(pickle_directory, 'consc_std_corr.pkl'))\n",
    "with open(consc_std_corr_file, 'rb') as pickle_file:\n",
    "    consc_std_corr = pickle.load(pickle_file)\n",
    "    \n",
    "consc_group_rv_corr_file = os.path.abspath(os.path.join(pickle_directory, 'consc_group_rv_corr.pkl'))\n",
    "with open(consc_group_rv_corr_file, 'rb') as pickle_file:\n",
    "    consc_group_rv_corr = pickle.load(pickle_file)\n",
    "    \n",
    "consc_rv_corr_file = os.path.abspath(os.path.join(pickle_directory, 'consc_rv_corr.pkl'))\n",
    "with open(consc_rv_corr_file, 'rb') as pickle_file:\n",
    "    consc_rv_corr = pickle.load(pickle_file)  \n",
    "\n",
    "consc_rr_corr_file = os.path.abspath(os.path.join(pickle_directory, 'consc_rr_corr.pkl'))\n",
    "with open(consc_rr_corr_file, 'rb') as pickle_file:\n",
    "    consc_rr_corr = pickle.load(pickle_file)  "
   ]
  },
  {
   "cell_type": "code",
   "execution_count": 32,
   "metadata": {
    "collapsed": true
   },
   "outputs": [],
   "source": [
    "consc_std_err.extract_features([[26,50]], CHANNELS, 'Consc_Group')\n",
    "\n",
    "consc_std_corr.extract_features([[124, 188], [192, 212], [246, 278]], CHANNELS, 'Consc_Group')\n",
    "# [160, 180], [204, 240] - [120, 192], [200, 220]\n",
    "consc_group_rv_corr.extract_features([[120, 192], [200, 220]], CHANNELS, 'Consc_Group')\n",
    "# [160, 180], [204, 240] - [112, 168], [172, 212]\n",
    "consc_rr_corr.extract_features([[112, 168], [172, 212]], CHANNELS, 'Consc_Group')\n",
    "\n",
    "X_std, y_std = consc_std_corr.get_features_and_labels('Consc_Group')\n",
    "X_rv, y_rv = consc_group_rv_corr.get_features_and_labels('Consc_Group')\n",
    "X_rr, y_rr = consc_rr_corr.get_features_and_labels('Consc_Group')"
   ]
  },
  {
   "cell_type": "code",
   "execution_count": 34,
   "metadata": {},
   "outputs": [
    {
     "name": "stdout",
     "output_type": "stream",
     "text": [
      "# Tuning parameters for LDA\n",
      "\n",
      "The best parameters are {'shrinkage': 0.9, 'solver': 'lsqr'} with a score of 0.69\n",
      "\n",
      "0.622 (+/-0.360) for {'shrinkage': 0.0, 'solver': 'lsqr'}\n",
      "0.600 (+/-0.367) for {'shrinkage': 0.05, 'solver': 'lsqr'}\n",
      "0.644 (+/-0.378) for {'shrinkage': 0.1, 'solver': 'lsqr'}\n",
      "0.667 (+/-0.427) for {'shrinkage': 0.15000000000000002, 'solver': 'lsqr'}\n",
      "0.667 (+/-0.427) for {'shrinkage': 0.2, 'solver': 'lsqr'}\n",
      "0.644 (+/-0.495) for {'shrinkage': 0.25, 'solver': 'lsqr'}\n",
      "0.644 (+/-0.495) for {'shrinkage': 0.30000000000000004, 'solver': 'lsqr'}\n",
      "0.667 (+/-0.482) for {'shrinkage': 0.35000000000000003, 'solver': 'lsqr'}\n",
      "0.622 (+/-0.533) for {'shrinkage': 0.4, 'solver': 'lsqr'}\n",
      "0.644 (+/-0.572) for {'shrinkage': 0.45, 'solver': 'lsqr'}\n",
      "0.644 (+/-0.572) for {'shrinkage': 0.5, 'solver': 'lsqr'}\n",
      "0.644 (+/-0.572) for {'shrinkage': 0.55, 'solver': 'lsqr'}\n",
      "0.644 (+/-0.572) for {'shrinkage': 0.6000000000000001, 'solver': 'lsqr'}\n",
      "0.644 (+/-0.572) for {'shrinkage': 0.65, 'solver': 'lsqr'}\n",
      "0.644 (+/-0.572) for {'shrinkage': 0.7000000000000001, 'solver': 'lsqr'}\n",
      "0.644 (+/-0.572) for {'shrinkage': 0.75, 'solver': 'lsqr'}\n",
      "0.667 (+/-0.567) for {'shrinkage': 0.8, 'solver': 'lsqr'}\n",
      "0.667 (+/-0.567) for {'shrinkage': 0.8500000000000001, 'solver': 'lsqr'}\n",
      "0.689 (+/-0.578) for {'shrinkage': 0.9, 'solver': 'lsqr'}\n",
      "0.689 (+/-0.578) for {'shrinkage': 0.9500000000000001, 'solver': 'lsqr'}\n",
      "0.667 (+/-0.528) for {'shrinkage': 1.0, 'solver': 'lsqr'}\n",
      "\n",
      "\n",
      "# Tuning hyper-parameters for accuracy\n",
      "\n",
      "Best parameters set found on development set:\n",
      "\n",
      "{'shrinkage': 0.15000000000000002, 'solver': 'lsqr'}\n",
      "\n",
      "Detailed classification report:\n",
      "\n",
      "The model is trained on the full development set.\n",
      "The scores are computed on the full evaluation set.\n",
      "\n",
      "             precision    recall  f1-score   support\n",
      "\n",
      "        0.0       0.33      0.50      0.40         2\n",
      "        1.0       0.50      0.33      0.40         3\n",
      "\n",
      "avg / total       0.43      0.40      0.40         5\n",
      "\n",
      "\n",
      "# Tuning hyper-parameters for accuracy\n",
      "\n",
      "Best parameters set found on development set:\n",
      "\n",
      "{'shrinkage': 0.75, 'solver': 'lsqr'}\n",
      "\n",
      "Detailed classification report:\n",
      "\n",
      "The model is trained on the full development set.\n",
      "The scores are computed on the full evaluation set.\n",
      "\n",
      "             precision    recall  f1-score   support\n",
      "\n",
      "        0.0       0.67      1.00      0.80         2\n",
      "        1.0       1.00      0.67      0.80         3\n",
      "\n",
      "avg / total       0.87      0.80      0.80         5\n",
      "\n",
      "\n",
      "# Tuning hyper-parameters for accuracy\n",
      "\n",
      "Best parameters set found on development set:\n",
      "\n",
      "{'shrinkage': 0.65, 'solver': 'lsqr'}\n",
      "\n",
      "Detailed classification report:\n",
      "\n",
      "The model is trained on the full development set.\n",
      "The scores are computed on the full evaluation set.\n",
      "\n",
      "             precision    recall  f1-score   support\n",
      "\n",
      "        0.0       0.33      0.50      0.40         2\n",
      "        1.0       0.50      0.33      0.40         3\n",
      "\n",
      "avg / total       0.43      0.40      0.40         5\n",
      "\n",
      "\n",
      "# Tuning hyper-parameters for accuracy\n",
      "\n",
      "Best parameters set found on development set:\n",
      "\n",
      "{'shrinkage': 0.35000000000000003, 'solver': 'lsqr'}\n",
      "\n",
      "Detailed classification report:\n",
      "\n",
      "The model is trained on the full development set.\n",
      "The scores are computed on the full evaluation set.\n",
      "\n",
      "             precision    recall  f1-score   support\n",
      "\n",
      "        0.0       1.00      0.50      0.67         2\n",
      "        1.0       0.75      1.00      0.86         3\n",
      "\n",
      "avg / total       0.85      0.80      0.78         5\n",
      "\n",
      "\n",
      "# Tuning hyper-parameters for accuracy\n",
      "\n",
      "Best parameters set found on development set:\n",
      "\n",
      "{'shrinkage': 0.9, 'solver': 'lsqr'}\n",
      "\n",
      "Detailed classification report:\n",
      "\n",
      "The model is trained on the full development set.\n",
      "The scores are computed on the full evaluation set.\n",
      "\n",
      "             precision    recall  f1-score   support\n",
      "\n",
      "        0.0       0.33      1.00      0.50         1\n",
      "        1.0       1.00      0.50      0.67         4\n",
      "\n",
      "avg / total       0.87      0.60      0.63         5\n",
      "\n",
      "\n",
      "# Tuning hyper-parameters for accuracy\n",
      "\n",
      "Best parameters set found on development set:\n",
      "\n",
      "{'shrinkage': 0.2, 'solver': 'lsqr'}\n",
      "\n",
      "Detailed classification report:\n",
      "\n",
      "The model is trained on the full development set.\n",
      "The scores are computed on the full evaluation set.\n",
      "\n",
      "             precision    recall  f1-score   support\n",
      "\n",
      "        0.0       1.00      0.67      0.80         3\n",
      "        1.0       0.67      1.00      0.80         2\n",
      "\n",
      "avg / total       0.87      0.80      0.80         5\n",
      "\n",
      "\n",
      "# Tuning hyper-parameters for accuracy\n",
      "\n",
      "Best parameters set found on development set:\n",
      "\n",
      "{'shrinkage': 1.0, 'solver': 'lsqr'}\n",
      "\n",
      "Detailed classification report:\n",
      "\n",
      "The model is trained on the full development set.\n",
      "The scores are computed on the full evaluation set.\n",
      "\n",
      "             precision    recall  f1-score   support\n",
      "\n",
      "        0.0       0.00      0.00      0.00         0\n",
      "        1.0       1.00      0.40      0.57         5\n",
      "\n",
      "avg / total       1.00      0.40      0.57         5\n",
      "\n",
      "\n",
      "# Tuning hyper-parameters for accuracy\n",
      "\n"
     ]
    },
    {
     "name": "stderr",
     "output_type": "stream",
     "text": [
      "C:\\Users\\Mike\\AppData\\Local\\conda\\conda\\envs\\seegnature\\lib\\site-packages\\sklearn\\metrics\\classification.py:1137: UndefinedMetricWarning: Recall and F-score are ill-defined and being set to 0.0 in labels with no true samples.\n",
      "  'recall', 'true', average, warn_for)\n"
     ]
    },
    {
     "name": "stdout",
     "output_type": "stream",
     "text": [
      "Best parameters set found on development set:\n",
      "\n",
      "{'shrinkage': 0.45, 'solver': 'lsqr'}\n",
      "\n",
      "Detailed classification report:\n",
      "\n",
      "The model is trained on the full development set.\n",
      "The scores are computed on the full evaluation set.\n",
      "\n",
      "             precision    recall  f1-score   support\n",
      "\n",
      "        0.0       1.00      1.00      1.00         2\n",
      "        1.0       1.00      1.00      1.00         3\n",
      "\n",
      "avg / total       1.00      1.00      1.00         5\n",
      "\n",
      "\n",
      "# Tuning hyper-parameters for accuracy\n",
      "\n",
      "Best parameters set found on development set:\n",
      "\n",
      "{'shrinkage': 0.1, 'solver': 'lsqr'}\n",
      "\n",
      "Detailed classification report:\n",
      "\n",
      "The model is trained on the full development set.\n",
      "The scores are computed on the full evaluation set.\n",
      "\n",
      "             precision    recall  f1-score   support\n",
      "\n",
      "        0.0       0.00      0.00      0.00         2\n",
      "        1.0       0.50      0.67      0.57         3\n",
      "\n",
      "avg / total       0.30      0.40      0.34         5\n",
      "\n",
      "\n",
      "# Tuning hyper-parameters for accuracy\n",
      "\n",
      "Best parameters set found on development set:\n",
      "\n",
      "{'shrinkage': 0.25, 'solver': 'lsqr'}\n",
      "\n",
      "Detailed classification report:\n",
      "\n",
      "The model is trained on the full development set.\n",
      "The scores are computed on the full evaluation set.\n",
      "\n",
      "             precision    recall  f1-score   support\n",
      "\n",
      "        0.0       1.00      0.50      0.67         2\n",
      "        1.0       0.75      1.00      0.86         3\n",
      "\n",
      "avg / total       0.85      0.80      0.78         5\n",
      "\n",
      "\n"
     ]
    }
   ],
   "source": [
    "perform_lda(X_rr, y_rr)"
   ]
  },
  {
   "cell_type": "code",
   "execution_count": 33,
   "metadata": {
    "scrolled": true
   },
   "outputs": [
    {
     "name": "stdout",
     "output_type": "stream",
     "text": [
      "# Tuning parameters for Logistic Regression\n",
      "\n",
      "The best parameters are {'C': 0.1, 'fit_intercept': True, 'penalty': 'l1', 'solver': 'liblinear'} with a score of 0.67\n",
      "\n",
      "0.667 (+/-0.567) for {'C': 0.1, 'fit_intercept': True, 'penalty': 'l1', 'solver': 'liblinear'}\n",
      "0.600 (+/-0.367) for {'C': 0.1, 'fit_intercept': True, 'penalty': 'l2', 'solver': 'liblinear'}\n",
      "0.667 (+/-0.567) for {'C': 0.1, 'fit_intercept': False, 'penalty': 'l1', 'solver': 'liblinear'}\n",
      "0.600 (+/-0.367) for {'C': 0.1, 'fit_intercept': False, 'penalty': 'l2', 'solver': 'liblinear'}\n",
      "0.600 (+/-0.439) for {'C': 1, 'fit_intercept': True, 'penalty': 'l1', 'solver': 'liblinear'}\n",
      "0.644 (+/-0.326) for {'C': 1, 'fit_intercept': True, 'penalty': 'l2', 'solver': 'liblinear'}\n",
      "0.600 (+/-0.439) for {'C': 1, 'fit_intercept': False, 'penalty': 'l1', 'solver': 'liblinear'}\n",
      "0.644 (+/-0.326) for {'C': 1, 'fit_intercept': False, 'penalty': 'l2', 'solver': 'liblinear'}\n",
      "0.622 (+/-0.305) for {'C': 10, 'fit_intercept': True, 'penalty': 'l1', 'solver': 'liblinear'}\n",
      "0.644 (+/-0.326) for {'C': 10, 'fit_intercept': True, 'penalty': 'l2', 'solver': 'liblinear'}\n",
      "0.600 (+/-0.336) for {'C': 10, 'fit_intercept': False, 'penalty': 'l1', 'solver': 'liblinear'}\n",
      "0.644 (+/-0.326) for {'C': 10, 'fit_intercept': False, 'penalty': 'l2', 'solver': 'liblinear'}\n",
      "0.600 (+/-0.367) for {'C': 100, 'fit_intercept': True, 'penalty': 'l1', 'solver': 'liblinear'}\n",
      "0.644 (+/-0.326) for {'C': 100, 'fit_intercept': True, 'penalty': 'l2', 'solver': 'liblinear'}\n",
      "0.622 (+/-0.360) for {'C': 100, 'fit_intercept': False, 'penalty': 'l1', 'solver': 'liblinear'}\n",
      "0.644 (+/-0.326) for {'C': 100, 'fit_intercept': False, 'penalty': 'l2', 'solver': 'liblinear'}\n",
      "0.644 (+/-0.326) for {'C': 1000, 'fit_intercept': True, 'penalty': 'l1', 'solver': 'liblinear'}\n",
      "0.622 (+/-0.339) for {'C': 1000, 'fit_intercept': True, 'penalty': 'l2', 'solver': 'liblinear'}\n",
      "0.622 (+/-0.328) for {'C': 1000, 'fit_intercept': False, 'penalty': 'l1', 'solver': 'liblinear'}\n",
      "0.644 (+/-0.337) for {'C': 1000, 'fit_intercept': False, 'penalty': 'l2', 'solver': 'liblinear'}\n",
      "0.644 (+/-0.326) for {'C': 10000, 'fit_intercept': True, 'penalty': 'l1', 'solver': 'liblinear'}\n",
      "0.622 (+/-0.339) for {'C': 10000, 'fit_intercept': True, 'penalty': 'l2', 'solver': 'liblinear'}\n",
      "0.622 (+/-0.328) for {'C': 10000, 'fit_intercept': False, 'penalty': 'l1', 'solver': 'liblinear'}\n",
      "0.644 (+/-0.337) for {'C': 10000, 'fit_intercept': False, 'penalty': 'l2', 'solver': 'liblinear'}\n",
      "\n",
      "\n"
     ]
    },
    {
     "ename": "TypeError",
     "evalue": "tune_parameters_for_scores() missing 1 required positional argument: 'random_state'",
     "output_type": "error",
     "traceback": [
      "\u001b[1;31m---------------------------------------------------------------------------\u001b[0m",
      "\u001b[1;31mTypeError\u001b[0m                                 Traceback (most recent call last)",
      "\u001b[1;32m<ipython-input-33-1e391215801d>\u001b[0m in \u001b[0;36m<module>\u001b[1;34m()\u001b[0m\n\u001b[1;32m----> 1\u001b[1;33m \u001b[0mperform_logistic_regression\u001b[0m\u001b[1;33m(\u001b[0m\u001b[0mX_rr\u001b[0m\u001b[1;33m,\u001b[0m \u001b[0my_rr\u001b[0m\u001b[1;33m)\u001b[0m\u001b[1;33m\u001b[0m\u001b[0m\n\u001b[0m",
      "\u001b[1;32m<ipython-input-3-6a8ee30b5fbb>\u001b[0m in \u001b[0;36mperform_logistic_regression\u001b[1;34m(X, y)\u001b[0m\n\u001b[0;32m     20\u001b[0m     \u001b[0mperform_grid_search\u001b[0m\u001b[1;33m(\u001b[0m\u001b[0mlr\u001b[0m\u001b[1;33m,\u001b[0m \u001b[0mX\u001b[0m\u001b[1;33m,\u001b[0m \u001b[0my\u001b[0m\u001b[1;33m,\u001b[0m \u001b[0mparam_grid\u001b[0m\u001b[1;33m,\u001b[0m \u001b[1;34m\"Logistic Regression\"\u001b[0m\u001b[1;33m)\u001b[0m\u001b[1;33m\u001b[0m\u001b[0m\n\u001b[0;32m     21\u001b[0m \u001b[1;33m\u001b[0m\u001b[0m\n\u001b[1;32m---> 22\u001b[1;33m     \u001b[0mtune_parameters_for_scores\u001b[0m\u001b[1;33m(\u001b[0m\u001b[0mlr\u001b[0m\u001b[1;33m,\u001b[0m \u001b[0mX\u001b[0m\u001b[1;33m,\u001b[0m \u001b[0my\u001b[0m\u001b[1;33m,\u001b[0m \u001b[0mparam_grid\u001b[0m\u001b[1;33m,\u001b[0m \u001b[1;33m[\u001b[0m\u001b[1;34m'precision'\u001b[0m\u001b[1;33m,\u001b[0m \u001b[1;34m'recall'\u001b[0m\u001b[1;33m]\u001b[0m\u001b[1;33m)\u001b[0m\u001b[1;33m\u001b[0m\u001b[0m\n\u001b[0m\u001b[0;32m     23\u001b[0m \u001b[1;33m\u001b[0m\u001b[0m\n\u001b[0;32m     24\u001b[0m \u001b[1;33m\u001b[0m\u001b[0m\n",
      "\u001b[1;31mTypeError\u001b[0m: tune_parameters_for_scores() missing 1 required positional argument: 'random_state'"
     ]
    }
   ],
   "source": [
    "perform_logistic_regression(X_rr, y_rr)"
   ]
  },
  {
   "cell_type": "code",
   "execution_count": 52,
   "metadata": {
    "collapsed": true
   },
   "outputs": [],
   "source": [
    "def run_evaluation(clf, X, y, n_splits, score='accuracy'):\n",
    "    \n",
    "    results = []\n",
    "    \n",
    "    for iteration in range(0, 10):\n",
    "        \n",
    "        cv = StratifiedKFold(n_splits=n_splits, shuffle=True, random_state=iteration)\n",
    "\n",
    "        # Variable for accuracy score\n",
    "        mean_score = 0\n",
    "        \n",
    "        for train, test in cv.split(X, y):\n",
    "            \n",
    "            # Compute accuracy score\n",
    "            y_pred = clf.fit(X[train], y[train]).predict(X[test])\n",
    "            \n",
    "            if score is 'accuracy':\n",
    "                mean_score += accuracy_score(y[test], y_pred)\n",
    "            elif score is 'precision':\n",
    "                mean_score += precision_score(y[test], y_pred, pos_label=0)\n",
    "            elif score is 'recall':\n",
    "                mean_score += recall_score(y[test], y_pred, pos_label=0)\n",
    "\n",
    "        # Mean accuracy\n",
    "        mean_score /= n_splits\n",
    "        \n",
    "        results.append(mean_score)\n",
    "            \n",
    "    return results"
   ]
  },
  {
   "cell_type": "code",
   "execution_count": 53,
   "metadata": {
    "collapsed": true
   },
   "outputs": [],
   "source": [
    "def run_set_of_evaluations(score):\n",
    "    ### Evaluation of classification with STD\n",
    "\n",
    "    lda = LinearDiscriminantAnalysis(solver='lsqr', shrinkage=0.2)\n",
    "    lr = LogisticRegression(C=100, fit_intercept=True, penalty='l1', solver='liblinear')\n",
    "\n",
    "    results_lda = run_evaluation(lda, X_std, y_std, score)\n",
    "    results_lr = run_evaluation(lr, X_std, y_std, score)\n",
    "\n",
    "    results_std = []\n",
    "    results_std.append(results_lda)\n",
    "    results_std.append(results_lr)\n",
    "\n",
    "    ### Evaluation of classification with RV\n",
    "\n",
    "    lda = LinearDiscriminantAnalysis(solver='lsqr', shrinkage=1.0)\n",
    "    lr = LogisticRegression(C=10, fit_intercept=True, penalty='l1', solver='liblinear')\n",
    "\n",
    "    results_lda = run_evaluation(lda, X_rv, y_rv, score)\n",
    "    results_lr = run_evaluation(lr, X_rv, y_rv, score)\n",
    "\n",
    "    results_rv = []\n",
    "    results_rv.append(results_lda)\n",
    "    results_rv.append(results_lr)\n",
    "\n",
    "    ### Evaluation of classification with RR\n",
    "\n",
    "    lda = LinearDiscriminantAnalysis(solver='lsqr', shrinkage=0.9)\n",
    "    lr = LogisticRegression(C=0.1, fit_intercept=True, penalty='l1', solver='liblinear')\n",
    "\n",
    "    results_lda = run_evaluation(lda, X_rr, y_rr, score)\n",
    "    results_lr = run_evaluation(lr, X_rr, y_rr, score)\n",
    "\n",
    "    results_rr = []\n",
    "    results_rr.append(results_lda)\n",
    "    results_rr.append(results_lr)\n",
    "    \n",
    "    \n",
    "    # make graphics\n",
    "    results_std = np.array(results_std)\n",
    "    results_rv = np.array(results_rv)\n",
    "    results_rr = np.array(results_rr)\n",
    "\n",
    "    results = []\n",
    "    print(np.mean(results_std, axis=1))\n",
    "    print(np.mean(results_rv, axis=1))\n",
    "    print(np.mean(results_rr, axis=1))\n",
    "\n",
    "    print(np.std(results_std, axis=1))\n",
    "    print(np.std(results_rv, axis=1))\n",
    "    print(np.std(results_rr, axis=1))\n",
    "\n",
    "    results.append(results_std)\n",
    "    results.append(results_rv)\n",
    "    results.append(results_rr)\n",
    "\n",
    "    results = np.array(results)\n",
    "\n",
    "    means = np.mean(results, axis=2)\n",
    "    stds = np.std(results, axis=2)\n",
    "\n",
    "    print(means.shape)\n",
    "\n",
    "    ind = np.arange(len(means))\n",
    "    width = 0.35\n",
    "\n",
    "    fig, ax = plt.subplots()\n",
    "    rects1 = ax.bar(ind - width/2, means[:,0], width, yerr=stds[:,0], color='SkyBlue', label='LDA', capsize=5)\n",
    "    rects2 = ax.bar(ind + width/2, means[:,1], width, yerr=stds[:,1], color='IndianRed', label='LR', capsize=5)\n",
    "\n",
    "    ax.set_ylabel(score)\n",
    "    ax.set_title('%s by instruction condition and classifier' % score)\n",
    "    ax.set_xticks(ind)\n",
    "    ax.set_xticklabels(('STD', 'RV', 'RR'))\n",
    "    ax.legend()\n",
    "\n",
    "    plot_path = os.path.abspath(os.path.join(image_directory, 'interr1_comparison_lr_lda.png'))\n",
    "\n",
    "    plt.savefig(plot_path, dpi=300, bbox_inches='tight')"
   ]
  },
  {
   "cell_type": "code",
   "execution_count": 54,
   "metadata": {},
   "outputs": [
    {
     "name": "stderr",
     "output_type": "stream",
     "text": [
      "C:\\Users\\Mike\\AppData\\Local\\conda\\conda\\envs\\seegnature\\lib\\site-packages\\sklearn\\metrics\\classification.py:1135: UndefinedMetricWarning: Precision is ill-defined and being set to 0.0 due to no predicted samples.\n",
      "  'precision', 'predicted', average, warn_for)\n"
     ]
    },
    {
     "name": "stdout",
     "output_type": "stream",
     "text": [
      "[0.68242857 0.68342857]\n",
      "[0.7252381  0.70461905]\n",
      "[0.68993651 0.70009524]\n",
      "[0.06077334 0.0525848 ]\n",
      "[0.0743141  0.08730224]\n",
      "[0.03630379 0.04019894]\n",
      "(3, 2)\n"
     ]
    },
    {
     "data": {
      "image/png": "[encoded data removed]",
      "text/plain": [
       "<Figure size 432x288 with 1 Axes>"
      ]
     },
     "metadata": {},
     "output_type": "display_data"
    }
   ],
   "source": [
    "run_set_of_evaluations('precision')"
   ]
  },
  {
   "cell_type": "code",
   "execution_count": 55,
   "metadata": {
    "scrolled": true
   },
   "outputs": [
    {
     "name": "stdout",
     "output_type": "stream",
     "text": [
      "[0.575 0.605]\n",
      "[0.702 0.707]\n",
      "[0.657 0.693]\n",
      "[0.05123475 0.06103278]\n",
      "[0.03187475 0.08775534]\n",
      "[0.031      0.03579106]\n",
      "(3, 2)\n"
     ]
    },
    {
     "data": {
      "image/png": "[encoded data removed]",
      "text/plain": [
       "<Figure size 432x288 with 1 Axes>"
      ]
     },
     "metadata": {},
     "output_type": "display_data"
    }
   ],
   "source": [
    "run_set_of_evaluations('recall')"
   ]
  },
  {
   "cell_type": "code",
   "execution_count": 42,
   "metadata": {
    "scrolled": true
   },
   "outputs": [
    {
     "name": "stdout",
     "output_type": "stream",
     "text": [
      "[0.64527778 0.65944444]\n",
      "[0.71822222 0.70827778]\n",
      "[0.66777778 0.68522222]\n",
      "[0.03399914 0.03928764]\n",
      "[0.02512168 0.06322039]\n",
      "[0.0236578  0.01989975]\n",
      "(3, 2)\n"
     ]
    },
    {
     "data": {
      "image/png": "[encoded data removed]",
      "text/plain": [
       "<Figure size 432x288 with 1 Axes>"
      ]
     },
     "metadata": {},
     "output_type": "display_data"
    }
   ],
   "source": [
    "run_set_of_evaluations('accuracy')"
   ]
  }
 ],
 "metadata": {
  "kernelspec": {
   "display_name": "seegnature",
   "language": "python",
   "name": "seegnature"
  },
  "language_info": {
   "codemirror_mode": {
    "name": "ipython",
    "version": 3
   },
   "file_extension": ".py",
   "mimetype": "text/x-python",
   "name": "python",
   "nbconvert_exporter": "python",
   "pygments_lexer": "ipython3",
   "version": "3.6.5"
  },
  "varInspector": {
   "cols": {
    "lenName": 16,
    "lenType": 16,
    "lenVar": 40
   },
   "kernels_config": {
    "python": {
     "delete_cmd_postfix": "",
     "delete_cmd_prefix": "del ",
     "library": "var_list.py",
     "varRefreshCmd": "print(var_dic_list())"
    },
    "r": {
     "delete_cmd_postfix": ") ",
     "delete_cmd_prefix": "rm(",
     "library": "var_list.r",
     "varRefreshCmd": "cat(var_dic_list()) "
    }
   },
   "types_to_exclude": [
    "module",
    "function",
    "builtin_function_or_method",
    "instance",
    "_Feature"
   ],
   "window_display": false
  }
 },
 "nbformat": 4,
 "nbformat_minor": 2
}
