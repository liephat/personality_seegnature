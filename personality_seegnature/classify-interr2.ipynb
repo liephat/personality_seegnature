{
 "cells": [
  {
   "cell_type": "code",
   "execution_count": 3,
   "metadata": {
    "collapsed": true
   },
   "outputs": [],
   "source": [
    "import os\n",
    "import pickle\n",
    "import numpy as np\n",
    "from scipy import interp\n",
    "import matplotlib.pyplot as plt\n",
    "\n",
    "from sklearn.model_selection import StratifiedKFold\n",
    "from sklearn.model_selection import RepeatedStratifiedKFold\n",
    "from sklearn.linear_model import LogisticRegression\n",
    "\n",
    "from sklearn.discriminant_analysis import LinearDiscriminantAnalysis\n",
    "from sklearn.model_selection import train_test_split\n",
    "from sklearn.model_selection import GridSearchCV\n",
    "from sklearn.metrics import classification_report\n",
    "from sklearn.metrics import roc_curve, auc, accuracy_score\n",
    "from sklearn.svm import SVC"
   ]
  },
  {
   "cell_type": "markdown",
   "metadata": {},
   "source": [
    "Define method for grid search with different classification methods"
   ]
  },
  {
   "cell_type": "code",
   "execution_count": 15,
   "metadata": {
    "collapsed": true
   },
   "outputs": [],
   "source": [
    "def perform_logistic_regression(X, y):\n",
    "    # Grid search with logistic regression\n",
    "    lr = LogisticRegression(C=1.0)\n",
    "\n",
    "    # GridSearch for liblinear solver\n",
    "    C_range = [0.1, 1, 10, 100, 1000, 10000]\n",
    "    penalty_options = ['l1', 'l2']\n",
    "    fit_intercept_options = [True, False]\n",
    "    solver_option = ['liblinear']\n",
    "    class_weight_option = ['auto', '']\n",
    "\n",
    "    param_grid = dict(C=C_range, penalty=penalty_options, fit_intercept=fit_intercept_options, solver=solver_option)\n",
    "\n",
    "    # solver_options = ['newton-cg', 'lbfgs', 'sag', 'saga']\n",
    "    # multi_class_options = ['ovr', 'multinomial']\n",
    "    # class_weight_options = [None, 'balanced']\n",
    "\n",
    "    # param_grid = dict(solver = solver_options, multi_class = multi_class_options, class_weight = class_weight_options)\n",
    "\n",
    "    perform_grid_search(lr, X, y, param_grid, \"Logistic Regression\")\n",
    "\n",
    "\n",
    "def perform_lda(X, y):\n",
    "    lda = LinearDiscriminantAnalysis()\n",
    "\n",
    "    solver_options = ['lsqr']\n",
    "    #shrinkage_options = [None, 'auto']\n",
    "    shrinkage = np.arange(0.0, 1.05, 0.05)\n",
    "    \n",
    "    param_grid = dict(solver=solver_options, shrinkage=shrinkage)\n",
    "\n",
    "    perform_grid_search(lda, X, y, param_grid, \"LDA\")\n",
    "    \n",
    "\n",
    "def perform_grid_search(clf, X, y, param_grid, name):\n",
    "    \n",
    "    cv = StratifiedKFold(n_splits=10)\n",
    "    \n",
    "    grid_clf = GridSearchCV(clf, param_grid, cv=cv, scoring='accuracy')\n",
    "    grid_clf.fit(X, y)\n",
    "\n",
    "    print(\"# Tuning parameters for %s\" % name)\n",
    "    print()\n",
    "    # best results\n",
    "    print(\"The best parameters are %s with a score of %0.2f\" \\\n",
    "          % (grid_clf.best_params_, grid_clf.best_score_))\n",
    "    print()\n",
    "    # complete results\n",
    "    # means = grid_clf.cv_results_['mean_test_score']\n",
    "    # stds = grid_clf.cv_results_['std_test_score']\n",
    "    # for mean, std, params in zip(means, stds, grid_clf.cv_results_['params']):\n",
    "    #     print(\"%0.3f (+/-%0.03f) for %r\"\n",
    "    #           % (mean, std * 2, params))\n",
    "    # print(\"\\n\")\n"
   ]
  },
  {
   "cell_type": "code",
   "execution_count": 5,
   "metadata": {
    "collapsed": true
   },
   "outputs": [],
   "source": [
    "CHANNELS = ['Fp1', 'Fp2', 'F7', 'F3', 'Fz', 'F4', 'F8', 'FC5', 'FCz', 'FC6', 'T7', 'C3', 'Cz', 'C4',\n",
    "            'T8', 'CP5', 'CP1', 'CP2', 'CP6', 'P7', 'P3', 'Pz', 'P4', 'P8', 'O1', 'O2']"
   ]
  },
  {
   "cell_type": "markdown",
   "metadata": {},
   "source": [
    "Set important directories."
   ]
  },
  {
   "cell_type": "code",
   "execution_count": 6,
   "metadata": {
    "collapsed": true
   },
   "outputs": [],
   "source": [
    "working_directory = 'L:/int_err2'\n",
    "current_path = os.path.abspath(working_directory)\n",
    "image_directory = os.path.abspath(os.path.join(current_path, 'images'))\n",
    "pickle_directory = os.path.abspath(os.path.join(current_path, 'pickles'))"
   ]
  },
  {
   "cell_type": "markdown",
   "metadata": {},
   "source": [
    "Load separability indices."
   ]
  },
  {
   "cell_type": "code",
   "execution_count": 8,
   "metadata": {},
   "outputs": [],
   "source": [
    "std_comp_corr_file = os.path.abspath(os.path.join(pickle_directory, 'std_comp_corr.pkl'))\n",
    "with open(std_comp_corr_file, 'rb') as pickle_file:\n",
    "    std_comp_corr = pickle.load(pickle_file)\n",
    "    \n",
    "std_incomp_corr_file = os.path.abspath(os.path.join(pickle_directory, 'std_incomp_corr.pkl'))\n",
    "with open(std_incomp_corr_file, 'rb') as pickle_file:\n",
    "    std_incomp_corr = pickle.load(pickle_file)"
   ]
  },
  {
   "cell_type": "code",
   "execution_count": 44,
   "metadata": {},
   "outputs": [],
   "source": [
    "std_comp_corr.extract_features([[100, 160]], CHANNELS, 'Consc_Group')\n",
    "std_incomp_corr.extract_features([[100, 160], [200, 240]], CHANNELS, 'Consc_Group')\n",
    "\n",
    "X_std_comp, y_std_comp = std_comp_corr.get_features_and_labels('Consc_Group')\n",
    "X_std_incomp, y_std_incomp = std_incomp_corr.get_features_and_labels('Consc_Group')"
   ]
  },
  {
   "cell_type": "code",
   "execution_count": 42,
   "metadata": {},
   "outputs": [
    {
     "name": "stdout",
     "output_type": "stream",
     "text": [
      "# Tuning parameters for LDA\n",
      "\n",
      "The best parameters are {'shrinkage': 0.1, 'solver': 'lsqr'} with a score of 0.69\n",
      "\n",
      "# Tuning parameters for LDA\n",
      "\n",
      "The best parameters are {'shrinkage': 0.9, 'solver': 'lsqr'} with a score of 0.65\n",
      "\n",
      "# Tuning parameters for Logistic Regression\n",
      "\n",
      "The best parameters are {'C': 0.1, 'fit_intercept': True, 'penalty': 'l2', 'solver': 'liblinear'} with a score of 0.67\n",
      "\n",
      "# Tuning parameters for Logistic Regression\n",
      "\n",
      "The best parameters are {'C': 0.1, 'fit_intercept': True, 'penalty': 'l1', 'solver': 'liblinear'} with a score of 0.63\n",
      "\n"
     ]
    }
   ],
   "source": [
    "perform_lda(X_std_comp, y_std_comp)\n",
    "perform_lda(X_std_incomp, y_std_incomp)\n",
    "perform_logistic_regression(X_std_comp, y_std_comp)\n",
    "perform_logistic_regression(X_std_incomp, y_std_incomp)"
   ]
  },
  {
   "cell_type": "code",
   "execution_count": 32,
   "metadata": {},
   "outputs": [
    {
     "name": "stdout",
     "output_type": "stream",
     "text": [
      "# Tuning hyper-parameters for precision\n",
      "\n"
     ]
    },
    {
     "name": "stderr",
     "output_type": "stream",
     "text": [
      "C:\\Users\\Mike\\AppData\\Local\\conda\\conda\\envs\\seegnature\\lib\\site-packages\\sklearn\\metrics\\classification.py:1135: UndefinedMetricWarning: Precision is ill-defined and being set to 0.0 in labels with no predicted samples.\n",
      "  'precision', 'predicted', average, warn_for)\n",
      "C:\\Users\\Mike\\AppData\\Local\\conda\\conda\\envs\\seegnature\\lib\\site-packages\\sklearn\\metrics\\classification.py:1135: UndefinedMetricWarning: Precision is ill-defined and being set to 0.0 in labels with no predicted samples.\n",
      "  'precision', 'predicted', average, warn_for)\n",
      "C:\\Users\\Mike\\AppData\\Local\\conda\\conda\\envs\\seegnature\\lib\\site-packages\\sklearn\\metrics\\classification.py:1135: UndefinedMetricWarning: Precision is ill-defined and being set to 0.0 in labels with no predicted samples.\n",
      "  'precision', 'predicted', average, warn_for)\n",
      "C:\\Users\\Mike\\AppData\\Local\\conda\\conda\\envs\\seegnature\\lib\\site-packages\\sklearn\\metrics\\classification.py:1135: UndefinedMetricWarning: Precision is ill-defined and being set to 0.0 in labels with no predicted samples.\n",
      "  'precision', 'predicted', average, warn_for)\n",
      "C:\\Users\\Mike\\AppData\\Local\\conda\\conda\\envs\\seegnature\\lib\\site-packages\\sklearn\\metrics\\classification.py:1135: UndefinedMetricWarning: Precision is ill-defined and being set to 0.0 in labels with no predicted samples.\n",
      "  'precision', 'predicted', average, warn_for)\n"
     ]
    },
    {
     "name": "stdout",
     "output_type": "stream",
     "text": [
      "Best parameters set found on development set:\n",
      "\n",
      "{'C': 100, 'gamma': 0.0001, 'kernel': 'rbf'}\n",
      "\n",
      "Grid scores on development set:\n",
      "\n",
      "0.656 (+/-0.157) for {'C': 1, 'gamma': 0.001, 'kernel': 'rbf'}\n",
      "0.260 (+/-0.013) for {'C': 1, 'gamma': 0.0001, 'kernel': 'rbf'}\n",
      "0.701 (+/-0.153) for {'C': 10, 'gamma': 0.001, 'kernel': 'rbf'}\n",
      "0.681 (+/-0.107) for {'C': 10, 'gamma': 0.0001, 'kernel': 'rbf'}\n",
      "0.612 (+/-0.179) for {'C': 100, 'gamma': 0.001, 'kernel': 'rbf'}\n",
      "0.735 (+/-0.078) for {'C': 100, 'gamma': 0.0001, 'kernel': 'rbf'}\n",
      "0.587 (+/-0.200) for {'C': 1000, 'gamma': 0.001, 'kernel': 'rbf'}\n",
      "0.598 (+/-0.152) for {'C': 1000, 'gamma': 0.0001, 'kernel': 'rbf'}\n",
      "0.571 (+/-0.231) for {'C': 1, 'kernel': 'linear'}\n",
      "0.552 (+/-0.236) for {'C': 10, 'kernel': 'linear'}\n",
      "0.552 (+/-0.236) for {'C': 100, 'kernel': 'linear'}\n",
      "0.552 (+/-0.236) for {'C': 1000, 'kernel': 'linear'}\n",
      "\n",
      "Detailed classification report:\n",
      "\n",
      "The model is trained on the full development set.\n",
      "The scores are computed on the full evaluation set.\n",
      "\n",
      "             precision    recall  f1-score   support\n",
      "\n",
      "        0.0       0.00      0.00      0.00         1\n",
      "        1.0       0.67      0.40      0.50         5\n",
      "\n",
      "avg / total       0.56      0.33      0.42         6\n",
      "\n",
      "\n",
      "# Tuning hyper-parameters for recall\n",
      "\n",
      "Best parameters set found on development set:\n",
      "\n",
      "{'C': 100, 'gamma': 0.0001, 'kernel': 'rbf'}\n",
      "\n",
      "Grid scores on development set:\n",
      "\n",
      "0.640 (+/-0.135) for {'C': 1, 'gamma': 0.001, 'kernel': 'rbf'}\n",
      "0.500 (+/-0.000) for {'C': 1, 'gamma': 0.0001, 'kernel': 'rbf'}\n",
      "0.686 (+/-0.142) for {'C': 10, 'gamma': 0.001, 'kernel': 'rbf'}\n",
      "0.658 (+/-0.093) for {'C': 10, 'gamma': 0.0001, 'kernel': 'rbf'}\n",
      "0.586 (+/-0.142) for {'C': 100, 'gamma': 0.001, 'kernel': 'rbf'}\n",
      "0.705 (+/-0.075) for {'C': 100, 'gamma': 0.0001, 'kernel': 'rbf'}\n",
      "0.566 (+/-0.160) for {'C': 1000, 'gamma': 0.001, 'kernel': 'rbf'}\n",
      "0.586 (+/-0.133) for {'C': 1000, 'gamma': 0.0001, 'kernel': 'rbf'}\n",
      "0.605 (+/-0.175) for {'C': 1, 'kernel': 'linear'}\n",
      "0.586 (+/-0.185) for {'C': 10, 'kernel': 'linear'}\n",
      "0.586 (+/-0.185) for {'C': 100, 'kernel': 'linear'}\n",
      "0.586 (+/-0.185) for {'C': 1000, 'kernel': 'linear'}\n",
      "\n",
      "Detailed classification report:\n",
      "\n",
      "The model is trained on the full development set.\n",
      "The scores are computed on the full evaluation set.\n",
      "\n",
      "             precision    recall  f1-score   support\n",
      "\n",
      "        0.0       0.00      0.00      0.00         1\n",
      "        1.0       0.67      0.40      0.50         5\n",
      "\n",
      "avg / total       0.56      0.33      0.42         6\n",
      "\n",
      "\n"
     ]
    }
   ],
   "source": [
    "# Split the dataset in two equal parts\n",
    "X_train, X_test, y_train, y_test = train_test_split(\n",
    "    X_std_comp, y_std_comp, test_size=0.1, random_state=0)\n",
    "\n",
    "# Set the parameters by cross-validation\n",
    "tuned_parameters = [{'kernel': ['rbf'], 'gamma': [1e-3, 1e-4],\n",
    "                     'C': [1, 10, 100, 1000]},\n",
    "                    {'kernel': ['linear'], 'C': [1, 10, 100, 1000]}]\n",
    "\n",
    "scores = ['precision', 'recall']\n",
    "\n",
    "for score in scores:\n",
    "    print(\"# Tuning hyper-parameters for %s\" % score)\n",
    "    print()\n",
    "\n",
    "    clf = GridSearchCV(SVC(), tuned_parameters, cv=5,\n",
    "                       scoring='%s_macro' % score)\n",
    "    clf.fit(X_train, y_train)\n",
    "\n",
    "    print(\"Best parameters set found on development set:\")\n",
    "    print()\n",
    "    print(clf.best_params_)\n",
    "    print()\n",
    "    print(\"Grid scores on development set:\")\n",
    "    print()\n",
    "    means = clf.cv_results_['mean_test_score']\n",
    "    stds = clf.cv_results_['std_test_score']\n",
    "    for mean, std, params in zip(means, stds, clf.cv_results_['params']):\n",
    "        print(\"%0.3f (+/-%0.03f) for %r\"\n",
    "              % (mean, std, params))\n",
    "    print()\n",
    "\n",
    "    print(\"Detailed classification report:\")\n",
    "    print()\n",
    "    print(\"The model is trained on the full development set.\")\n",
    "    print(\"The scores are computed on the full evaluation set.\")\n",
    "    print()\n",
    "    y_true, y_pred = y_test, clf.predict(X_test)\n",
    "    print(classification_report(y_true, y_pred))\n",
    "    print()"
   ]
  },
  {
   "cell_type": "code",
   "execution_count": 27,
   "metadata": {
    "collapsed": true
   },
   "outputs": [],
   "source": [
    "def run_evaluation(clf, X, y):\n",
    "    \n",
    "    results = []\n",
    "    \n",
    "    for iteration in range(0, 10):\n",
    "        \n",
    "        cv = StratifiedKFold(n_splits=10, shuffle=True, random_state=iteration)\n",
    "\n",
    "        # Variable for accuracy score\n",
    "        mean_accuracy = 0\n",
    "        \n",
    "        for train, test in cv.split(X, y):\n",
    "            \n",
    "            probas_ = clf.fit(X[train], y[train]).predict_proba(X[test])\n",
    "\n",
    "            # Compute accuracy score\n",
    "            y_pred = clf.fit(X[train], y[train]).predict(X[test])\n",
    "            \n",
    "            mean_accuracy += accuracy_score(y[test], y_pred)\n",
    "            \n",
    "\n",
    "        # Mean accuracy\n",
    "        mean_accuracy /= 10\n",
    "        \n",
    "        results.append(mean_accuracy)\n",
    "            \n",
    "    return results"
   ]
  },
  {
   "cell_type": "code",
   "execution_count": 55,
   "metadata": {
    "collapsed": true
   },
   "outputs": [],
   "source": [
    "### Evaluation of classification with STD incomp\n",
    "\n",
    "lda = LinearDiscriminantAnalysis(solver='lsqr', shrinkage=0.9)\n",
    "lr = LogisticRegression(C=0.1, fit_intercept=True, penalty='l1', solver='liblinear')\n",
    "\n",
    "results_lda = run_evaluation(lda, X_std_incomp, y_std_incomp)\n",
    "results_lr = run_evaluation(lr, X_std_incomp, y_std_incomp)\n",
    "\n",
    "results_std_incomp = []\n",
    "results_std_incomp.append(results_lda)\n",
    "results_std_incomp.append(results_lr)"
   ]
  },
  {
   "cell_type": "code",
   "execution_count": 56,
   "metadata": {},
   "outputs": [
    {
     "name": "stdout",
     "output_type": "stream",
     "text": [
      "[[0.5999999999999999, 0.6366666666666666, 0.59, 0.5766666666666667, 0.6166666666666668, 0.55, 0.61, 0.6533333333333333, 0.6066666666666666, 0.5700000000000001], [0.6333333333333332, 0.5999999999999999, 0.5999999999999999, 0.58, 0.6466666666666667, 0.5366666666666667, 0.5933333333333334, 0.6033333333333333, 0.5733333333333333, 0.5433333333333332]]\n"
     ]
    }
   ],
   "source": [
    "print(results_std_incomp)"
   ]
  },
  {
   "cell_type": "code",
   "execution_count": 57,
   "metadata": {
    "collapsed": true
   },
   "outputs": [],
   "source": [
    "### Evaluation of classification with STD comp\n",
    "\n",
    "lda = LinearDiscriminantAnalysis(solver='lsqr', shrinkage=0.35)\n",
    "lr = LogisticRegression(C=0.1, fit_intercept=True, penalty='l1', solver='liblinear')\n",
    "\n",
    "results_lda = run_evaluation(lda, X_std_comp, y_std_comp)\n",
    "results_lr = run_evaluation(lr, X_std_comp, y_std_comp)\n",
    "\n",
    "results_std_comp = []\n",
    "results_std_comp.append(results_lda)\n",
    "results_std_comp.append(results_lr)"
   ]
  },
  {
   "cell_type": "code",
   "execution_count": 58,
   "metadata": {},
   "outputs": [
    {
     "name": "stdout",
     "output_type": "stream",
     "text": [
      "[[0.69, 0.6933333333333332, 0.7066666666666666, 0.6733333333333333, 0.6533333333333333, 0.6699999999999999, 0.6066666666666667, 0.6866666666666666, 0.6866666666666666, 0.7], [0.5966666666666666, 0.6166666666666666, 0.6666666666666666, 0.6533333333333332, 0.6466666666666667, 0.6566666666666667, 0.6466666666666667, 0.6533333333333333, 0.6799999999999999, 0.6499999999999999]]\n"
     ]
    }
   ],
   "source": [
    "print(results_std_comp)"
   ]
  },
  {
   "cell_type": "markdown",
   "metadata": {},
   "source": [
    "Collect all evaluation results:"
   ]
  },
  {
   "cell_type": "code",
   "execution_count": 59,
   "metadata": {},
   "outputs": [
    {
     "name": "stdout",
     "output_type": "stream",
     "text": [
      "[0.67666667 0.64666667]\n",
      "[0.601 0.591]\n",
      "[0.0275681  0.02260777]\n",
      "[0.02940333 0.03296631]\n",
      "(2, 2)\n"
     ]
    },
    {
     "data": {
      "image/png": "[encoded data removed]",
      "text/plain": [
       "<Figure size 432x288 with 1 Axes>"
      ]
     },
     "metadata": {},
     "output_type": "display_data"
    }
   ],
   "source": [
    "results_std_comp = np.array(results_std_comp)\n",
    "results_std_incomp = np.array(results_std_incomp)\n",
    "\n",
    "results = []\n",
    "print(np.mean(results_std_comp, axis=1))\n",
    "print(np.mean(results_std_incomp, axis=1))\n",
    "\n",
    "print(np.std(results_std_comp, axis=1))\n",
    "print(np.std(results_std_incomp, axis=1))\n",
    "\n",
    "results.append(results_std_comp)\n",
    "results.append(results_std_incomp)\n",
    "\n",
    "results = np.array(results)\n",
    "\n",
    "means = np.mean(results, axis=2)\n",
    "stds = np.std(results, axis=2)\n",
    "\n",
    "print(means.shape)\n",
    "\n",
    "ind = np.arange(len(means))\n",
    "width = 0.35\n",
    "\n",
    "fig, ax = plt.subplots()\n",
    "rects1 = ax.bar(ind - width/2, means[:,0], width, yerr=stds[:,0], color='SkyBlue', label='LDA', capsize=5)\n",
    "rects2 = ax.bar(ind + width/2, means[:,1], width, yerr=stds[:,1], color='IndianRed', label='LR', capsize=5)\n",
    "\n",
    "ax.set_ylabel('Accuracy')\n",
    "ax.set_title('Accuracy by instruction condition and classifier')\n",
    "ax.set_xticks(ind)\n",
    "ax.set_xticklabels(('STD', 'RV', 'RR'))\n",
    "ax.legend()\n",
    "\n",
    "plot_path = os.path.abspath(os.path.join(image_directory, 'interr1_comparison_lr_lda.png'))\n",
    "\n",
    "plt.savefig(plot_path, dpi=300, bbox_inches='tight')\n"
   ]
  },
  {
   "cell_type": "code",
   "execution_count": null,
   "metadata": {
    "collapsed": true
   },
   "outputs": [],
   "source": []
  }
 ],
 "metadata": {
  "kernelspec": {
   "display_name": "seegnature",
   "language": "python",
   "name": "seegnature"
  },
  "language_info": {
   "codemirror_mode": {
    "name": "ipython",
    "version": 3
   },
   "file_extension": ".py",
   "mimetype": "text/x-python",
   "name": "python",
   "nbconvert_exporter": "python",
   "pygments_lexer": "ipython3",
   "version": "3.6.5"
  },
  "varInspector": {
   "cols": {
    "lenName": 16,
    "lenType": 16,
    "lenVar": 40
   },
   "kernels_config": {
    "python": {
     "delete_cmd_postfix": "",
     "delete_cmd_prefix": "del ",
     "library": "var_list.py",
     "varRefreshCmd": "print(var_dic_list())"
    },
    "r": {
     "delete_cmd_postfix": ") ",
     "delete_cmd_prefix": "rm(",
     "library": "var_list.r",
     "varRefreshCmd": "cat(var_dic_list()) "
    }
   },
   "types_to_exclude": [
    "module",
    "function",
    "builtin_function_or_method",
    "instance",
    "_Feature"
   ],
   "window_display": false
  }
 },
 "nbformat": 4,
 "nbformat_minor": 2
}
