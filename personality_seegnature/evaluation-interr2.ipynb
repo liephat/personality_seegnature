{
 "cells": [
  {
   "cell_type": "code",
   "execution_count": 2,
   "metadata": {
    "collapsed": true
   },
   "outputs": [],
   "source": [
    "import os\n",
    "import pickle\n",
    "import numpy as np\n",
    "from scipy import interp\n",
    "import matplotlib\n",
    "# matplotlib.use('Agg')\n",
    "import matplotlib.pyplot as plt\n",
    "\n",
    "from sklearn.model_selection import StratifiedKFold\n",
    "from sklearn.model_selection import RepeatedStratifiedKFold\n",
    "from sklearn.linear_model import LogisticRegression\n",
    "\n",
    "from sklearn.discriminant_analysis import LinearDiscriminantAnalysis\n",
    "from sklearn.model_selection import train_test_split\n",
    "from sklearn.model_selection import GridSearchCV\n",
    "from sklearn.metrics import classification_report\n",
    "from sklearn.metrics import roc_curve, auc, accuracy_score, precision_score, recall_score, confusion_matrix\n",
    "from sklearn.svm import SVC"
   ]
  },
  {
   "cell_type": "code",
   "execution_count": 3,
   "metadata": {
    "collapsed": true
   },
   "outputs": [],
   "source": [
    "CHANNELS = ['Fp1', 'Fp2', 'F7', 'F3', 'Fz', 'F4', 'F8', 'FC5', 'FCz', 'FC6', 'T7', 'C3', 'Cz', 'C4',\n",
    "            'T8', 'CP5', 'CP1', 'CP2', 'CP6', 'P7', 'P3', 'Pz', 'P4', 'P8', 'O1', 'O2']"
   ]
  },
  {
   "cell_type": "markdown",
   "metadata": {},
   "source": [
    "Define method for grid search with different classification methods to find their optimal parameters"
   ]
  },
  {
   "cell_type": "code",
   "execution_count": 4,
   "metadata": {
    "collapsed": true
   },
   "outputs": [],
   "source": [
    "def perform_logistic_regression(X, y, n_splits, score):\n",
    "    # Grid search with logistic regression\n",
    "    lr = LogisticRegression(C=1.0)\n",
    "\n",
    "    # GridSearch for liblinear solver\n",
    "    C_range = [0.1, 1, 10, 100, 1000, 10000]\n",
    "    penalty_options = ['l1', 'l2']\n",
    "    fit_intercept_options = [True, False]\n",
    "    solver_option = ['liblinear']\n",
    "    class_weight_option = ['auto', '']\n",
    "\n",
    "    param_grid = dict(C=C_range, penalty=penalty_options, fit_intercept=fit_intercept_options, solver=solver_option)\n",
    "\n",
    "    # solver_options = ['newton-cg', 'lbfgs', 'sag', 'saga']\n",
    "    # multi_class_options = ['ovr', 'multinomial']\n",
    "    # class_weight_options = [None, 'balanced']\n",
    "\n",
    "    # param_grid = dict(solver = solver_options, multi_class = multi_class_options, class_weight = class_weight_options)\n",
    "\n",
    "    best_params = perform_grid_search(lr, X, y, score, n_splits, param_grid, 'Logistic Regression')\n",
    "    \n",
    "    return best_params\n",
    "    \n",
    "\n",
    "def perform_lda(X, y, n_splits, score):\n",
    "    lda = LinearDiscriminantAnalysis()\n",
    "\n",
    "    solver_options = ['lsqr']\n",
    "    #shrinkage_options = [None, 'auto']\n",
    "    shrinkage = np.arange(0.0, 1.05, 0.05)\n",
    "    \n",
    "    param_grid = dict(solver=solver_options, shrinkage=shrinkage)\n",
    "\n",
    "    best_params = perform_grid_search(lda, X, y, score, n_splits, param_grid, 'LDA')\n",
    "    \n",
    "    return best_params\n",
    "    \n",
    "\n",
    "def perform_svc(X, y, n_splits, score):\n",
    "    svc = SVC()\n",
    "    \n",
    "    param_grid = [{'kernel': ['rbf'], 'gamma': [1e-3, 1e-4],\n",
    "                         'C': [1, 10, 100, 1000]},\n",
    "                        {'kernel': ['linear'], 'C': [1, 10, 100, 1000]}]\n",
    "\n",
    "    \n",
    "    best_params = perform_grid_search(svc, X, y, score, n_splits, param_grid, 'SVC')\n",
    "    \n",
    "    return best_params\n",
    "\n",
    "    \n",
    "def perform_grid_search(clf, X, y, score, n_splits, param_grid, name, verbose=False):\n",
    "    \n",
    "    cv = StratifiedKFold(n_splits=10)\n",
    "    \n",
    "    grid_clf = GridSearchCV(clf, param_grid, cv=cv, scoring=score)\n",
    "    grid_clf.fit(X, y)\n",
    "    \n",
    "    if verbose:\n",
    "        print(\"# Tuning parameters for %s\" % name)\n",
    "        print()\n",
    "        # best results\n",
    "        print(\"The best parameters are %s with a score of %0.2f\" \\\n",
    "              % (grid_clf.best_params_, grid_clf.best_score_))\n",
    "        print()\n",
    "        # complete results\n",
    "        means = grid_clf.cv_results_['mean_test_score']\n",
    "        stds = grid_clf.cv_results_['std_test_score']\n",
    "        for mean, std, params in zip(means, stds, grid_clf.cv_results_['params']):\n",
    "            print(\"%0.3f (+/-%0.03f) for %r\"\n",
    "                  % (mean, std * 2, params))\n",
    "        print(\"\\n\")\n",
    "    \n",
    "    return grid_clf.best_params_"
   ]
  },
  {
   "cell_type": "code",
   "execution_count": 5,
   "metadata": {
    "collapsed": true
   },
   "outputs": [],
   "source": [
    "def run_evaluation(clf, X, y, n_splits, score='accuracy', pos_label=1):\n",
    "    \n",
    "    results = []\n",
    "    \n",
    "    for iteration in range(0, 10):\n",
    "        \n",
    "        cv = StratifiedKFold(n_splits=n_splits, shuffle=True, random_state=iteration)\n",
    "\n",
    "        # Variable for accuracy score\n",
    "        mean_score = 0\n",
    "        \n",
    "        for train, test in cv.split(X, y):\n",
    "            \n",
    "            # Compute accuracy score\n",
    "            y_pred = clf.fit(X[train], y[train]).predict(X[test])\n",
    "            \n",
    "            if score is 'accuracy':\n",
    "                mean_score += accuracy_score(y[test], y_pred)\n",
    "            elif score is 'precision':\n",
    "                mean_score += precision_score(y[test], y_pred, pos_label=pos_label)\n",
    "            elif score is 'recall':\n",
    "                mean_score += recall_score(y[test], y_pred, pos_label=pos_label)\n",
    "\n",
    "        # Mean accuracy\n",
    "        mean_score /= n_splits\n",
    "        \n",
    "        results.append(mean_score)\n",
    "            \n",
    "    return results"
   ]
  },
  {
   "cell_type": "code",
   "execution_count": 6,
   "metadata": {
    "collapsed": true
   },
   "outputs": [],
   "source": [
    "def run_set_of_evaluations(datasets, n_splits, optimize_score, evaluate_scores, pos_label, name):\n",
    "    \n",
    "    # initialize result dictionary and lists for each score\n",
    "    results = {}\n",
    "    \n",
    "    for score in evaluate_scores:\n",
    "        results[score] = []\n",
    "    \n",
    "    # evaluate each dataset\n",
    "    for dataset in datasets:\n",
    "        \n",
    "        X, y = dataset.get_features_and_labels('Consc_Group')\n",
    "        \n",
    "        # parameter optimization\n",
    "        best_params_lda = perform_lda(X, y, n_splits, optimize_score)\n",
    "        best_params_lr = perform_logistic_regression(X, y, n_splits, optimize_score)\n",
    "\n",
    "        lda = LinearDiscriminantAnalysis(**best_params_lda)\n",
    "        lr = LogisticRegression(**best_params_lr)\n",
    "        \n",
    "        # evaluate best parameters on each score\n",
    "        for score in evaluate_scores:\n",
    "\n",
    "            results_dataset = []\n",
    "\n",
    "            results_lda = run_evaluation(lda, X, y, n_splits, score, pos_label)\n",
    "            results_lr = run_evaluation(lr, X, y, n_splits, score, pos_label)\n",
    "\n",
    "            results_dataset.append(results_lda)\n",
    "            results_dataset.append(results_lr)\n",
    "\n",
    "            results[score].append(results_dataset)\n",
    "            \n",
    "\n",
    "    # result presentation\n",
    "    \n",
    "    xtick_labels = []\n",
    "    \n",
    "    for dataset in datasets:\n",
    "        xtick_labels.append(dataset.description)\n",
    "    \n",
    "    for score in evaluate_scores:\n",
    "        \n",
    "        results[score] = np.array(results[score])\n",
    "        \n",
    "        means = np.mean(results[score], axis=2)\n",
    "        stds = np.std(results[score], axis=2)\n",
    "\n",
    "        print('Folds: %i\\nOptimized: %s\\nScore: %s' % (n_splits, optimize_score, score))\n",
    "        print(means[:,0])\n",
    "        print(means[:,1])\n",
    "        \n",
    "        print(stds[:,0])\n",
    "        print(stds[:,1])\n",
    "        \n",
    "        ind = np.arange(len(means))\n",
    "        width = 0.35\n",
    "\n",
    "        fig, ax = plt.subplots()\n",
    "        rects1 = ax.bar(ind - width/2, means[:,0], width, yerr=stds[:,0], color='CornFlowerBlue', label='LDA', capsize=5)\n",
    "        rects2 = ax.bar(ind + width/2, means[:,1], width, yerr=stds[:,1], color='Crimson', label='LR', capsize=5)\n",
    "\n",
    "        ax.set_ylabel(score.title())\n",
    "        # ax.set_title('%s by instruction condition and classifier' % score)\n",
    "        ax.set_xticks(ind)\n",
    "        ax.set_xticklabels(xtick_labels)\n",
    "        ax.legend()\n",
    "\n",
    "        plot_path = os.path.abspath(os.path.join(image_directory, name + '_' + score + '_lr_lda.png'))\n",
    "\n",
    "        plt.savefig(plot_path, dpi=300, bbox_inches='tight')\n",
    "        \n",
    "    return results\n",
    "    "
   ]
  },
  {
   "cell_type": "markdown",
   "metadata": {},
   "source": [
    "### Evaluation of IntErr2 data"
   ]
  },
  {
   "cell_type": "markdown",
   "metadata": {},
   "source": [
    "Set important directories."
   ]
  },
  {
   "cell_type": "code",
   "execution_count": 7,
   "metadata": {
    "collapsed": true
   },
   "outputs": [],
   "source": [
    "working_directory = 'L:/int_err2'\n",
    "current_path = os.path.abspath(working_directory)\n",
    "image_directory = os.path.abspath(os.path.join(current_path, 'images'))\n",
    "pickle_directory = os.path.abspath(os.path.join(current_path, 'pickles'))\n",
    "data_directory = os.path.abspath(os.path.join(current_path, 'data'))"
   ]
  },
  {
   "cell_type": "markdown",
   "metadata": {},
   "source": [
    "Load separability indices."
   ]
  },
  {
   "cell_type": "code",
   "execution_count": 9,
   "metadata": {},
   "outputs": [],
   "source": [
    "std_comp_corr_file = os.path.abspath(os.path.join(pickle_directory, 'std_comp_corr.pkl'))\n",
    "with open(std_comp_corr_file, 'rb') as pickle_file:\n",
    "    std_comp_corr = pickle.load(pickle_file)\n",
    "    \n",
    "std_incomp_corr_file = os.path.abspath(os.path.join(pickle_directory, 'std_incomp_corr.pkl'))\n",
    "with open(std_incomp_corr_file, 'rb') as pickle_file:\n",
    "    std_incomp_corr = pickle.load(pickle_file)\n",
    "    \n",
    "alt_comp_corr_file = os.path.abspath(os.path.join(pickle_directory, 'alt_comp_corr.pkl'))\n",
    "with open(alt_comp_corr_file, 'rb') as pickle_file:\n",
    "    alt_comp_corr = pickle.load(pickle_file)\n",
    "    \n",
    "alt_incomp_corr_file = os.path.abspath(os.path.join(pickle_directory, 'alt_incomp_corr.pkl'))\n",
    "with open(alt_incomp_corr_file, 'rb') as pickle_file:\n",
    "    alt_incomp_corr = pickle.load(pickle_file)"
   ]
  },
  {
   "cell_type": "code",
   "execution_count": 10,
   "metadata": {
    "collapsed": true
   },
   "outputs": [],
   "source": [
    "std_comp_corr.extract_features([[112, 152]], CHANNELS, 'Consc_Group')\n",
    "std_incomp_corr.extract_features([[-60, -40], [112, 148]], CHANNELS, 'Consc_Group')\n",
    "alt_comp_corr.extract_features([[112, 152], [468, 484]], CHANNELS, 'Consc_Group')\n",
    "alt_incomp_corr.extract_features([[348, 380]], CHANNELS, 'Consc_Group')\n",
    "# alt_incomp_corr.extract_features([[-20, 0], [348, 380]], CHANNELS, 'Consc_Group')\n",
    "\n",
    "std_comp_corr.description = 'STD\\n(congruent)'\n",
    "std_incomp_corr.description = 'STD\\n(incongruent)'\n",
    "alt_comp_corr.description = 'ALT\\n(congruent)'\n",
    "alt_incomp_corr.description = 'ALT\\n(incongruent)'"
   ]
  },
  {
   "cell_type": "code",
   "execution_count": 11,
   "metadata": {
    "scrolled": true
   },
   "outputs": [
    {
     "name": "stderr",
     "output_type": "stream",
     "text": [
      "C:\\Users\\Mike\\AppData\\Local\\conda\\conda\\envs\\seegnature\\lib\\site-packages\\sklearn\\metrics\\classification.py:1135: UndefinedMetricWarning: Precision is ill-defined and being set to 0.0 due to no predicted samples.\n",
      "  'precision', 'predicted', average, warn_for)\n",
      "C:\\Users\\Mike\\AppData\\Local\\conda\\conda\\envs\\seegnature\\lib\\site-packages\\sklearn\\metrics\\classification.py:1135: UndefinedMetricWarning: Precision is ill-defined and being set to 0.0 due to no predicted samples.\n",
      "  'precision', 'predicted', average, warn_for)\n",
      "C:\\Users\\Mike\\AppData\\Local\\conda\\conda\\envs\\seegnature\\lib\\site-packages\\sklearn\\metrics\\classification.py:1135: UndefinedMetricWarning: Precision is ill-defined and being set to 0.0 due to no predicted samples.\n",
      "  'precision', 'predicted', average, warn_for)\n",
      "C:\\Users\\Mike\\AppData\\Local\\conda\\conda\\envs\\seegnature\\lib\\site-packages\\sklearn\\metrics\\classification.py:1135: UndefinedMetricWarning: Precision is ill-defined and being set to 0.0 due to no predicted samples.\n",
      "  'precision', 'predicted', average, warn_for)\n"
     ]
    },
    {
     "name": "stdout",
     "output_type": "stream",
     "text": [
      "Folds: 10\n",
      "Optimized: accuracy\n",
      "Score: accuracy\n",
      "[0.67166667 0.65766667 0.63866667 0.60633333]\n",
      "[0.66133333 0.502      0.681      0.51333333]\n",
      "[0.02418677 0.03809491 0.02334286 0.02024571]\n",
      "[0.01550627 0.02725191 0.03703002 0.03927114]\n",
      "Folds: 10\n",
      "Optimized: accuracy\n",
      "Score: precision\n",
      "[0.71366667 0.73583333 0.68083333 0.653     ]\n",
      "[0.6905     0.5655     0.76083333 0.53983333]\n",
      "[0.05529115 0.06237988 0.04725963 0.0310716 ]\n",
      "[0.02179513 0.04282425 0.02189939 0.07874519]\n",
      "Folds: 10\n",
      "Optimized: accuracy\n",
      "Score: recall\n",
      "[0.72333333 0.65666667 0.72       0.67      ]\n",
      "[0.79666667 0.49666667 0.69333333 0.56333333]\n",
      "[0.02603417 0.03349959 0.02666667 0.0314466 ]\n",
      "[0.01795055 0.05259911 0.05120764 0.05467073]\n"
     ]
    },
    {
     "data": {
      "image/png": "[encoded data removed]",
      "text/plain": [
       "<Figure size 432x288 with 1 Axes>"
      ]
     },
     "metadata": {},
     "output_type": "display_data"
    },
    {
     "data": {
      "image/png": "[encoded data removed]",
      "text/plain": [
       "<Figure size 432x288 with 1 Axes>"
      ]
     },
     "metadata": {},
     "output_type": "display_data"
    },
    {
     "data": {
      "image/png": "[encoded data removed]",
      "text/plain": [
       "<Figure size 432x288 with 1 Axes>"
      ]
     },
     "metadata": {},
     "output_type": "display_data"
    }
   ],
   "source": [
    "results = run_set_of_evaluations([std_comp_corr, std_incomp_corr, alt_comp_corr, alt_incomp_corr], 10, 'accuracy', ['accuracy', 'precision', 'recall'], 1, 'interr2')"
   ]
  },
  {
   "cell_type": "code",
   "execution_count": 12,
   "metadata": {},
   "outputs": [
    {
     "name": "stdout",
     "output_type": "stream",
     "text": [
      "[[[0.67 0.68 0.71 0.67 0.67 0.67 0.61 0.67 0.69 0.68]\n",
      "  [0.63 0.64 0.67 0.66 0.68 0.67 0.67 0.65 0.68 0.67]]\n",
      "\n",
      " [[0.7  0.71 0.62 0.68 0.67 0.63 0.61 0.71 0.65 0.61]\n",
      "  [0.52 0.54 0.47 0.52 0.5  0.53 0.47 0.49 0.52 0.46]]\n",
      "\n",
      " [[0.62 0.67 0.65 0.65 0.65 0.62 0.68 0.63 0.63 0.6 ]\n",
      "  [0.73 0.67 0.71 0.67 0.69 0.61 0.66 0.74 0.68 0.65]]\n",
      "\n",
      " [[0.59 0.59 0.65 0.61 0.63 0.58 0.6  0.61 0.6  0.61]\n",
      "  [0.5  0.51 0.5  0.54 0.56 0.51 0.5  0.45 0.58 0.48]]]\n"
     ]
    }
   ],
   "source": [
    "print(np.round(results['accuracy'], 2))\n",
    "\n",
    "eval_results_file = os.path.abspath(os.path.join(data_directory, 'results_10_accuracy.csv'))\n",
    "\n",
    "for dataset in results['accuracy']:\n",
    "    np.savetxt(eval_results_file, np.round(dataset, 2), delimiter=\",\")"
   ]
  },
  {
   "cell_type": "markdown",
   "metadata": {},
   "source": [
    "### Evaluation of IntErr1 data"
   ]
  },
  {
   "cell_type": "markdown",
   "metadata": {},
   "source": [
    "Set important directories."
   ]
  },
  {
   "cell_type": "code",
   "execution_count": 10,
   "metadata": {
    "collapsed": true
   },
   "outputs": [],
   "source": [
    "working_directory = 'L:/int_err'\n",
    "current_path = os.path.abspath(working_directory)\n",
    "image_directory = os.path.abspath(os.path.join(current_path, 'images'))\n",
    "pickle_directory = os.path.abspath(os.path.join(current_path, 'pickles'))\n",
    "data_directory = os.path.abspath(os.path.join(current_path, 'data'))"
   ]
  },
  {
   "cell_type": "markdown",
   "metadata": {},
   "source": [
    "Load separability indices."
   ]
  },
  {
   "cell_type": "code",
   "execution_count": 11,
   "metadata": {
    "collapsed": true
   },
   "outputs": [],
   "source": [
    "consc_std_corr_file = os.path.abspath(os.path.join(pickle_directory, 'consc_std_corr.pkl'))\n",
    "with open(consc_std_corr_file, 'rb') as pickle_file:\n",
    "    consc_std_corr = pickle.load(pickle_file)\n",
    "    \n",
    "consc_rv_corr_file = os.path.abspath(os.path.join(pickle_directory, 'consc_rv_corr.pkl'))\n",
    "with open(consc_rv_corr_file, 'rb') as pickle_file:\n",
    "    consc_rv_corr = pickle.load(pickle_file)  \n",
    "\n",
    "consc_rr_corr_file = os.path.abspath(os.path.join(pickle_directory, 'consc_rr_corr.pkl'))\n",
    "with open(consc_rr_corr_file, 'rb') as pickle_file:\n",
    "    consc_rr_corr = pickle.load(pickle_file)  "
   ]
  },
  {
   "cell_type": "code",
   "execution_count": 12,
   "metadata": {
    "collapsed": true
   },
   "outputs": [],
   "source": [
    "consc_std_corr.extract_features([[124, 188], [192, 212]], CHANNELS, 'Consc_Group')\n",
    "# A: [160, 180], [204, 240] - B: [120, 192], [200, 220] - C: [246, 278]\n",
    "consc_rv_corr.extract_features([[120, 192], [200, 220]], CHANNELS, 'Consc_Group')\n",
    "# A: [160, 180], [204, 240] - B: [112, 168], [172, 212]\n",
    "consc_rr_corr.extract_features([[112, 220]], CHANNELS, 'Consc_Group')\n",
    "# A: [112, 168], [172, 212]"
   ]
  },
  {
   "cell_type": "code",
   "execution_count": 38,
   "metadata": {},
   "outputs": [
    {
     "name": "stderr",
     "output_type": "stream",
     "text": [
      "C:\\Users\\Mike\\AppData\\Local\\conda\\conda\\envs\\seegnature\\lib\\site-packages\\sklearn\\metrics\\classification.py:1135: UndefinedMetricWarning: Precision is ill-defined and being set to 0.0 due to no predicted samples.\n",
      "  'precision', 'predicted', average, warn_for)\n",
      "C:\\Users\\Mike\\AppData\\Local\\conda\\conda\\envs\\seegnature\\lib\\site-packages\\sklearn\\metrics\\classification.py:1135: UndefinedMetricWarning: Precision is ill-defined and being set to 0.0 due to no predicted samples.\n",
      "  'precision', 'predicted', average, warn_for)\n",
      "C:\\Users\\Mike\\AppData\\Local\\conda\\conda\\envs\\seegnature\\lib\\site-packages\\sklearn\\metrics\\classification.py:1135: UndefinedMetricWarning: Precision is ill-defined and being set to 0.0 due to no predicted samples.\n",
      "  'precision', 'predicted', average, warn_for)\n"
     ]
    },
    {
     "name": "stdout",
     "output_type": "stream",
     "text": [
      "Folds: 10\n",
      "Optimized: accuracy\n",
      "Score: accuracy\n",
      "[0.61666667 0.724      0.65316667]\n",
      "[0.6775     0.707      0.69833333]\n",
      "[0.03284644 0.02458771 0.0303173 ]\n",
      "[0.03622652 0.05192837 0.0500999 ]\n",
      "Folds: 10\n",
      "Optimized: accuracy\n",
      "Score: precision\n",
      "[0.641      0.72833333 0.662     ]\n",
      "[0.66933333 0.71183333 0.72416667]\n",
      "[0.05711684 0.07405328 0.05729941]\n",
      "[0.07160928 0.06377238 0.0725    ]\n",
      "Folds: 10\n",
      "Optimized: accuracy\n",
      "Score: recall\n",
      "[0.54       0.7        0.65166667]\n",
      "[0.665      0.71333333 0.665     ]\n",
      "[0.04666667 0.03248931 0.0328718 ]\n",
      "[0.04245913 0.07916228 0.05600099]\n"
     ]
    },
    {
     "data": {
      "text/plain": [
       "{'accuracy': array([[[0.61      , 0.59666667, 0.57166667, 0.63166667, 0.59666667,\n",
       "          0.64166667, 0.69666667, 0.60666667, 0.62166667, 0.59333333],\n",
       "         [0.70666667, 0.66333333, 0.69666667, 0.615     , 0.68      ,\n",
       "          0.71666667, 0.705     , 0.60666667, 0.69666667, 0.68833333]],\n",
       " \n",
       "        [[0.78      , 0.71833333, 0.70833333, 0.74666667, 0.72166667,\n",
       "          0.705     , 0.71833333, 0.69166667, 0.70666667, 0.74333333],\n",
       "         [0.61833333, 0.755     , 0.705     , 0.68166667, 0.69833333,\n",
       "          0.70166667, 0.73833333, 0.62666667, 0.77666667, 0.76833333]],\n",
       " \n",
       "        [[0.63      , 0.66166667, 0.65833333, 0.62166667, 0.67666667,\n",
       "          0.67166667, 0.65666667, 0.59166667, 0.65666667, 0.70666667],\n",
       "         [0.705     , 0.69833333, 0.67166667, 0.71833333, 0.76333333,\n",
       "          0.74166667, 0.63      , 0.635     , 0.64333333, 0.77666667]]]),\n",
       " 'precision': array([[[0.66666667, 0.61666667, 0.49333333, 0.65      , 0.68333333,\n",
       "          0.66666667, 0.68333333, 0.6       , 0.7       , 0.65      ],\n",
       "         [0.67666667, 0.71666667, 0.7       , 0.6       , 0.63333333,\n",
       "          0.8       , 0.74166667, 0.575     , 0.56666667, 0.68333333]],\n",
       " \n",
       "        [[0.86666667, 0.67666667, 0.69166667, 0.725     , 0.65833333,\n",
       "          0.6       , 0.725     , 0.75      , 0.77333333, 0.81666667],\n",
       "         [0.68333333, 0.75      , 0.78333333, 0.69833333, 0.65      ,\n",
       "          0.71666667, 0.72      , 0.56666667, 0.76666667, 0.78333333]],\n",
       " \n",
       "        [[0.6       , 0.64166667, 0.68333333, 0.60833333, 0.64166667,\n",
       "          0.68333333, 0.74833333, 0.575     , 0.68166667, 0.75666667],\n",
       "         [0.78333333, 0.7       , 0.71666667, 0.8       , 0.75      ,\n",
       "          0.81666667, 0.58333333, 0.70833333, 0.61666667, 0.76666667]]]),\n",
       " 'recall': array([[[0.53333333, 0.5       , 0.45      , 0.53333333, 0.51666667,\n",
       "          0.61666667, 0.58333333, 0.53333333, 0.6       , 0.53333333],\n",
       "         [0.71666667, 0.65      , 0.7       , 0.63333333, 0.71666667,\n",
       "          0.66666667, 0.66666667, 0.56666667, 0.68333333, 0.65      ]],\n",
       " \n",
       "        [[0.73333333, 0.71666667, 0.66666667, 0.71666667, 0.65      ,\n",
       "          0.66666667, 0.66666667, 0.71666667, 0.71666667, 0.75      ],\n",
       "         [0.65      , 0.75      , 0.65      , 0.7       , 0.73333333,\n",
       "          0.71666667, 0.7       , 0.56666667, 0.86666667, 0.8       ]],\n",
       " \n",
       "        [[0.63333333, 0.66666667, 0.63333333, 0.61666667, 0.71666667,\n",
       "          0.66666667, 0.63333333, 0.61666667, 0.63333333, 0.7       ],\n",
       "         [0.68333333, 0.63333333, 0.63333333, 0.63333333, 0.7       ,\n",
       "          0.75      , 0.55      , 0.63333333, 0.71666667, 0.71666667]]])}"
      ]
     },
     "execution_count": 38,
     "metadata": {},
     "output_type": "execute_result"
    },
    {
     "data": {
      "image/png": "[encoded data removed]",
      "text/plain": [
       "<Figure size 432x288 with 1 Axes>"
      ]
     },
     "metadata": {},
     "output_type": "display_data"
    },
    {
     "data": {
      "image/png": "[encoded data removed]",
      "text/plain": [
       "<Figure size 432x288 with 1 Axes>"
      ]
     },
     "metadata": {},
     "output_type": "display_data"
    },
    {
     "data": {
      "image/png": "[encoded data removed]",
      "text/plain": [
       "<Figure size 432x288 with 1 Axes>"
      ]
     },
     "metadata": {},
     "output_type": "display_data"
    }
   ],
   "source": [
    "run_set_of_evaluations([consc_std_corr, consc_rv_corr, consc_rr_corr], 10, 'accuracy', ['accuracy', 'precision', 'recall'], 0, 'interr1')"
   ]
  }
 ],
 "metadata": {
  "kernelspec": {
   "display_name": "seegnature",
   "language": "python",
   "name": "seegnature"
  },
  "language_info": {
   "codemirror_mode": {
    "name": "ipython",
    "version": 3
   },
   "file_extension": ".py",
   "mimetype": "text/x-python",
   "name": "python",
   "nbconvert_exporter": "python",
   "pygments_lexer": "ipython3",
   "version": "3.6.5"
  },
  "varInspector": {
   "cols": {
    "lenName": 16,
    "lenType": 16,
    "lenVar": 40
   },
   "kernels_config": {
    "python": {
     "delete_cmd_postfix": "",
     "delete_cmd_prefix": "del ",
     "library": "var_list.py",
     "varRefreshCmd": "print(var_dic_list())"
    },
    "r": {
     "delete_cmd_postfix": ") ",
     "delete_cmd_prefix": "rm(",
     "library": "var_list.r",
     "varRefreshCmd": "cat(var_dic_list()) "
    }
   },
   "types_to_exclude": [
    "module",
    "function",
    "builtin_function_or_method",
    "instance",
    "_Feature"
   ],
   "window_display": false
  }
 },
 "nbformat": 4,
 "nbformat_minor": 2
}
